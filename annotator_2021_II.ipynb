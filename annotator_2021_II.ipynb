{
 "cells": [
  {
   "cell_type": "code",
   "execution_count": 257,
   "id": "2b141ce5",
   "metadata": {},
   "outputs": [],
   "source": [
    "# %load annotatorcode.py\n",
    "# bioportal\n",
    "import os\n",
    "import json\n",
    "import requests\n",
    "import urllib\n",
    "from urllib import parse, request\n",
    "\n",
    "import nltk\n",
    "from nltk.corpus import stopwords\n",
    "\n",
    "REST_URL = \"http://data.bioontology.org\"\n",
    "API_KEY = '3b00793b-f3cc-489c-9d6e-7a888f4b656e'\n",
    "PATH_TO_PAPERS = 'kaggle/'\n",
    "\n",
    "def parse_directory():\n",
    "    '''For parse and join paths in PATH_TO_PAPERS.\n",
    "       Output:path_files: list with all paths to record \n",
    "    '''\n",
    "    global path_files\n",
    "    path_files = []\n",
    "\n",
    "    for root, dirs, files in os.walk(PATH_TO_PAPERS):\n",
    "        for file in files:\n",
    "            path_files.append(os.path.join(root, file))\n",
    "\n",
    "    return path_files\n",
    "\n",
    "def load_json_record(path_to_record):\n",
    "    ''' Load entire json record for a paper.\n",
    "        Input: path to record.\n",
    "        Output: json_record.\n",
    "    '''\n",
    "    global json_record\n",
    "    with open(path_to_record, 'r') as json_handler:\n",
    "        json_record = json.load(json_handler)\n",
    "    return json_record\n",
    "\n",
    "def make_url_query(text_to_annotate):\n",
    "    global URL \n",
    "    URL = REST_URL + \"/annotator/?text=%s\"%(parse.quote(text_to_annotate))\n",
    "    return URL\n",
    "\n",
    "def get_json(url):\n",
    "    opener = urllib.request.build_opener()\n",
    "    opener.addheaders = [('Authorization', 'apikey token=' + API_KEY)]\n",
    "    return json.loads(opener.open(url).read())\n",
    "\n",
    "def call_endpoint_annotator(URL, PARAMS):\n",
    "    r = requests.get(url = URL, params = PARAMS)\n",
    "    global json_api_results\n",
    "    json_api_results = r.json()\n",
    "    return json_api_results\n",
    "\n",
    "def store_annotations(annotations,get_class=True):\n",
    "    anns = []\n",
    "    for result in annotations:\n",
    "        ann = {}\n",
    "        class_details = result[\"annotatedClass\"]\n",
    "        if get_class:\n",
    "            try:\n",
    "                class_details = get_json(result[\"annotatedClass\"][\"links\"][\"self\"])\n",
    "            except urllib.error.HTTPError:\n",
    "                print(f\"Error retrieving {result['annotatedClass']['@id']}\")\n",
    "                continue\n",
    "        ann['id'] = class_details[\"@id\"]\n",
    "        ann['preflabel'] = class_details[\"prefLabel\"]\n",
    "        ann['ontology'] = class_details[\"links\"][\"ontology\"]\n",
    "        ann['annotation_details'] =  []\n",
    "        for annotation in result['annotations']:\n",
    "            ann['annotation_details'].append(\n",
    "                {\n",
    "                    'from': str(annotation[\"from\"]),\n",
    "                    'to': str(annotation[\"to\"]),\n",
    "                    'match_type': annotation[\"matchType\"],\n",
    "                    'text': annotation['text']\n",
    "                })\n",
    "        if result[\"hierarchy\"]:\n",
    "            ann['hierarchy'] = []\n",
    "            for annotation in result[\"hierarchy\"]:\n",
    "                try:\n",
    "                    class_details = get_json(annotation[\"annotatedClass\"][\"links\"][\"self\"])\n",
    "                except urllib.error.HTTPError:\n",
    "                    print(f\"Error retrieving {annotation['annotatedClass']['@id']}\")\n",
    "                    continue\n",
    "                ann['hierarchy'].append(\n",
    "                    {\n",
    "                     'id':class_details[\"@id\"],\n",
    "                     'preflabel':class_details[\"prefLabel\"],\n",
    "                     'ontology':class_details[\"links\"][\"ontology\"],\n",
    "                     'distance_from_original_class':str(annotation[\"distance\"])\n",
    "                    })\n",
    "        anns.append(ann)\n",
    "    return anns\n",
    "\n",
    "def get_annotations(text_to_annotate,ontologies,expand_class_hierarchy='false',class_hierarchy_max_level=0):\n",
    "    '''get annotations from bioPortal for one fragment of text'''\n",
    "    PARAMS = {'apikey':API_KEY,'ontologies':ontologies,\n",
    "              'expand_class_hierarchy':expand_class_hierarchy,\n",
    "              'class_hierarchy_max_level':0,\n",
    "              'longest_only':'true'\n",
    "             }\n",
    "    make_url_query(text_to_annotate)\n",
    "    call_endpoint_annotator(URL,PARAMS)\n",
    "    return store_annotations(json_api_results)\n",
    "\n",
    "def count_annotations(ann):\n",
    "    count = {}\n",
    "    for i in ann:\n",
    "        onto = i['ontology'].split('/')[-1]\n",
    "        key = onto + \"_Matched_Term\"\n",
    "        if onto not in count.keys():\n",
    "            count[onto] = 1\n",
    "            count[key] = [i['preflabel']]\n",
    "        else:\n",
    "            count[onto] += 1\n",
    "            count[key].append(i['preflabel'])\n",
    "    return count"
   ]
  },
  {
   "cell_type": "code",
   "execution_count": 258,
   "id": "33f3b92e",
   "metadata": {},
   "outputs": [],
   "source": [
    "ontologies = \"PREMEDONTO,MESH,COVID19,SNOMEDCT\" # ontoportal id ontology."
   ]
  },
  {
   "cell_type": "code",
   "execution_count": 259,
   "id": "da5f101e",
   "metadata": {},
   "outputs": [
    {
     "data": {
      "text/plain": [
       "['kaggle/document_parses/pdf_json/06ced00a5fc04215949aa72528f2eeaae1d58927.json',\n",
       " 'kaggle/document_parses/pdf_json/30a4842a2e257f725cc041e32fd682c495111a50.json',\n",
       " 'kaggle/document_parses/pdf_json/3bb07ea10432f7738413dff9816809cc90f03f99.json',\n",
       " 'kaggle/document_parses/pdf_json/95aec306660c1b7519e9f019d92cc3a8206481e4.json',\n",
       " 'kaggle/document_parses/pdf_json/faaf1022ccfe93b032c5608097a53543ba24aedb.json',\n",
       " 'kaggle/document_parses/pdf_json/a1b6c2b3b808e995697f94d9676d5d5c85180177.json',\n",
       " 'kaggle/document_parses/pdf_json/0a1533470817bc5ef0d0d0af56386a96b505dc0d.json',\n",
       " 'kaggle/document_parses/pdf_json/40e41f0c52b39669dee24e37875d7a9fabc38636.json',\n",
       " 'kaggle/document_parses/pdf_json/184aded923f0ac3cbdbcf74d2a5b42cda0f414c2.json',\n",
       " 'kaggle/document_parses/pdf_json/d706e82e2ebc8571e70654d1acf0ffd3969ab2d3.json',\n",
       " 'kaggle/document_parses/pdf_json/5806726a24dc91de3954001effbdffd7a82d54e2.json',\n",
       " 'kaggle/document_parses/pdf_json/5b44feca5d6ffaaeb66501fa84cc6dd44d06660a.json',\n",
       " 'kaggle/document_parses/pdf_json/6e8517cb25ff228cb48da90a9c97d9c274dc8031.json',\n",
       " 'kaggle/document_parses/pdf_json/7d624acf891472c3452b1deb89e0dc44a40d0c94.json',\n",
       " 'kaggle/document_parses/pdf_json/025339bfce1cb8efa81c5accdabefe04dcdac9d2.json',\n",
       " 'kaggle/document_parses/pdf_json/ae19236936b05793ceac08ed5d58269c25486320.json',\n",
       " 'kaggle/document_parses/pdf_json/9d4e3e8eb092d5ed282d0aa4aadcaa8b7165b5e9.json',\n",
       " 'kaggle/document_parses/pdf_json/ada57a9f084a016deb20b6f83c442072e6e37955.json',\n",
       " 'kaggle/document_parses/pdf_json/f1bbb1b2e330c440acd6ff3d8a0f0d2e5adedd70.json',\n",
       " 'kaggle/document_parses/pdf_json/867e1b0f6ca8757f2a32a625d99b23888ab40d49.json',\n",
       " 'kaggle/document_parses/pdf_json/b2897e1277f56641193a6db73825f707eed3e4c9.json',\n",
       " 'kaggle/document_parses/pdf_json/d09b79026117ec9faebba46a8d13aa9b23ec751e.json',\n",
       " 'kaggle/document_parses/pdf_json/348055649b6b8cf2b9a376498df9bf41f7123605.json',\n",
       " 'kaggle/document_parses/pdf_json/d77233dd9085c9c76787c84ee9a1e249424b283a.json',\n",
       " 'kaggle/document_parses/pdf_json/93c6eef32a1a511ee989a259eab0e12174dc6859.json',\n",
       " 'kaggle/document_parses/pdf_json/03203ab50eb64271a9e825f94a1b1a6c46ea14b3.json',\n",
       " 'kaggle/document_parses/pdf_json/1cafb8587a42557c4f96ed28b2dc5717ff54d20d.json',\n",
       " 'kaggle/document_parses/pdf_json/6b0567729c2143a66d737eb0a2f63f2dce2e5a7d.json',\n",
       " 'kaggle/document_parses/pdf_json/ccc36b04ad5c71de61967624f7f739e868d7c0a5.json',\n",
       " 'kaggle/document_parses/pdf_json/44102e3e69e70ad2a73e753133283334ce1f8736.json',\n",
       " 'kaggle/document_parses/pdf_json/6eeaffdb22b4e310867262d1891a1442769c7803.json',\n",
       " 'kaggle/document_parses/pdf_json/14e0cac6e86d62859e6c9f1351ab67466d89e5b3.json',\n",
       " 'kaggle/document_parses/pdf_json/dff6195f5e24ebfa2fb4060142611b48021f673c.json',\n",
       " 'kaggle/document_parses/pdf_json/5f48792a5fa08bed9f56016f4981ae2ca6031b32.json',\n",
       " 'kaggle/document_parses/pdf_json/83b05e8afa6cbe7a68170ee155f7eca37c91d51f.json',\n",
       " 'kaggle/document_parses/pdf_json/c8213638a9602d46f2f7ff6ba62b0df69beb0001.json',\n",
       " 'kaggle/document_parses/pdf_json/8d7400a2b387820cd391d7df8194642e50402a0c.json',\n",
       " 'kaggle/document_parses/pdf_json/6a8ac55ea2a1fbd99deb683e24dd986e55e707b3.json',\n",
       " 'kaggle/document_parses/pdf_json/f1d1b9694aa43c837d9b758cb2d45d8a24d293e3.json',\n",
       " 'kaggle/document_parses/pdf_json/a77badb297bf4927419481e660ea8f1806ed91b1.json',\n",
       " 'kaggle/document_parses/pdf_json/d450fc8885843d48772df9a898552302f8c80b98.json',\n",
       " 'kaggle/document_parses/pdf_json/b022e6ee1e7b9a0a822b1255c2fa12f81ddc52fd.json',\n",
       " 'kaggle/document_parses/pdf_json/c6202f96bd4b2aea699d5fbe867f311498dca3aa.json',\n",
       " 'kaggle/document_parses/pdf_json/d1aafb70c066a2068b02786f8929fd9c900897fb.json',\n",
       " 'kaggle/document_parses/pdf_json/4ba79e54ecf81b30b56461a6aec2094eaf7b7f06.json',\n",
       " 'kaggle/document_parses/pdf_json/367af6bb9a8bbda02206506a819656bb6f14ce4c.json',\n",
       " 'kaggle/document_parses/pdf_json/c6bf372c094f035a514975c35a7f9c094abbe493.json',\n",
       " 'kaggle/document_parses/pdf_json/a78fd1b34372e1e54bf2a192d04aa36670cea307.json',\n",
       " 'kaggle/document_parses/pdf_json/4df2c6eecb985fcb20da3c5ed46e3b910c7077ab.json',\n",
       " 'kaggle/document_parses/pmc_json/PMC302018.xml.json',\n",
       " 'kaggle/document_parses/pmc_json/PMC1351169.xml.json',\n",
       " 'kaggle/document_parses/pmc_json/PMC1054884.xml.json',\n",
       " 'kaggle/document_parses/pmc_json/PMC1087471.xml.json',\n",
       " 'kaggle/document_parses/pmc_json/PMC420498.xml.json',\n",
       " 'kaggle/document_parses/pmc_json/PMC544882.xml.json',\n",
       " 'kaggle/document_parses/pmc_json/PMC1402269.xml.json',\n",
       " 'kaggle/document_parses/pmc_json/PMC546175.xml.json',\n",
       " 'kaggle/document_parses/pmc_json/PMC1334186.xml.json',\n",
       " 'kaggle/document_parses/pmc_json/PMC1201327.xml.json',\n",
       " 'kaggle/document_parses/pmc_json/PMC1287064.xml.json',\n",
       " 'kaggle/document_parses/pmc_json/PMC1174899.xml.json',\n",
       " 'kaggle/document_parses/pmc_json/PMC1458527.xml.json',\n",
       " 'kaggle/document_parses/pmc_json/PMC59574.xml.json',\n",
       " 'kaggle/document_parses/pmc_json/PMC1314898.xml.json',\n",
       " 'kaggle/document_parses/pmc_json/PMC1266063.xml.json',\n",
       " 'kaggle/document_parses/pmc_json/PMC1459127.xml.json',\n",
       " 'kaggle/document_parses/pmc_json/PMC35282.xml.json',\n",
       " 'kaggle/document_parses/pmc_json/PMC544965.xml.json',\n",
       " 'kaggle/document_parses/pmc_json/PMC137274.xml.json',\n",
       " 'kaggle/document_parses/pmc_json/PMC1072807.xml.json',\n",
       " 'kaggle/document_parses/pmc_json/PMC193681.xml.json',\n",
       " 'kaggle/document_parses/pmc_json/PMC1180477.xml.json',\n",
       " 'kaggle/document_parses/pmc_json/PMC1351155.xml.json',\n",
       " 'kaggle/document_parses/pmc_json/PMC137267.xml.json',\n",
       " 'kaggle/document_parses/pmc_json/PMC545053.xml.json',\n",
       " 'kaggle/document_parses/pmc_json/PMC125340.xml.json',\n",
       " 'kaggle/document_parses/pmc_json/PMC302190.xml.json',\n",
       " 'kaggle/document_parses/pmc_json/PMC212776.xml.json',\n",
       " 'kaggle/document_parses/pmc_json/PMC1090610.xml.json',\n",
       " 'kaggle/document_parses/pmc_json/PMC302072.xml.json',\n",
       " 'kaggle/document_parses/pmc_json/PMC521691.xml.json',\n",
       " 'kaggle/document_parses/pmc_json/PMC1072802.xml.json',\n",
       " 'kaggle/document_parses/pmc_json/PMC468896.xml.json',\n",
       " 'kaggle/document_parses/pmc_json/PMC1072806.xml.json',\n",
       " 'kaggle/document_parses/pmc_json/PMC549431.xml.json',\n",
       " 'kaggle/document_parses/pmc_json/PMC1143779.xml.json',\n",
       " 'kaggle/document_parses/pmc_json/PMC340389.xml.json',\n",
       " 'kaggle/document_parses/pmc_json/PMC59549.xml.json',\n",
       " 'kaggle/document_parses/pmc_json/PMC551583.xml.json',\n",
       " 'kaggle/document_parses/pmc_json/PMC1373654.xml.json',\n",
       " 'kaggle/document_parses/pmc_json/PMC1459179.xml.json',\n",
       " 'kaggle/document_parses/pmc_json/PMC520756.xml.json',\n",
       " 'kaggle/document_parses/pmc_json/PMC59580.xml.json',\n",
       " 'kaggle/document_parses/pmc_json/PMC554992.xml.json',\n",
       " 'kaggle/document_parses/pmc_json/PMC59543.xml.json',\n",
       " 'kaggle/document_parses/pmc_json/PMC306617.xml.json',\n",
       " 'kaggle/document_parses/pmc_json/PMC1083427.xml.json']"
      ]
     },
     "execution_count": 259,
     "metadata": {},
     "output_type": "execute_result"
    }
   ],
   "source": [
    "parse_directory()"
   ]
  },
  {
   "cell_type": "code",
   "execution_count": 260,
   "id": "07ae4062",
   "metadata": {},
   "outputs": [],
   "source": [
    "pmc_art = load_json_record(path_files[1])"
   ]
  },
  {
   "cell_type": "code",
   "execution_count": 261,
   "id": "cde2a44f",
   "metadata": {},
   "outputs": [
    {
     "data": {
      "text/plain": [
       "[{'text': 'There are hundreds of viruses that infect different human organs and cause diseases. Some fatal emerging viral infections have become serious public health issues worldwide. Early diagnosis and subsequent treatment are therefore essential for fighting viral infections. Current diagnostic techniques frequently employ polymerase chain reaction (PCR)-based methods to quickly detect the pathogenic viruses and establish the etiology of the disease or illness. However, the fast PCR method suffers from many drawbacks such as a high false-positive rate and the ability to detect only one or a few gene targets at a time. Microarray technology solves the problems of the PCR limitations and can be effectively applied to all fields of molecular medicine. Recently, a report in Retrovirology described a multi-virus DNA array that contains more than 250 open reading frames from eight human viruses including human immunodeficiency virus type 1. This array can be used to detect multiple viral co-infections in cells and in vivo. Another benefit of this kind of multi-virus array is in studying promoter activity and viral gene expression and correlating such readouts with the progression of disease and reactivation of latent infections. Thus, the virus DNA-chip development reported in Retrovirology is an important advance in diagnostic application which could be a potent clinical tool for characterizing viral co-infections in AIDS as well as other patients.',\n",
       "  'cite_spans': [],\n",
       "  'ref_spans': [],\n",
       "  'section': 'Abstract'},\n",
       " {'text': 'Microarray technology has been proven to be a powerful tool with great potential for biological and medical uses. In this technique, recombinant DNA fragments or synthesized oligonucleotides affixed on the surface of glass slides or nylon membranes are used for detecting complementary nucleic acid sequences (frequently representing a few hundred to >10,000 genes/expressed sequence tags) as well as for genotyping microorganisms and for profiling the gene-expression patterns in cells from higher organisms [1].',\n",
       "  'cite_spans': [],\n",
       "  'ref_spans': [],\n",
       "  'section': 'Abstract'},\n",
       " {'text': \"A new report by Ghedin, et al. [2] in Retrovirology describes the successful use of a multi-virus array (termed multivi-rus-chip) to detect multiple viral co-infections in cultured cells as well as to study viral gene expression and promoter activities (Figure 1 ). Ghedin's multivirus-chip contains genes from eight human viruses including human immunodeficiency virus type 1 (HIV-1). Conceptually, this chip can be used to detect viral co-infections in AIDS patients who are frequently rendered susceptible to additional opportunistic infections. In developing their multivirus-chip, Ghedin, et al. tested more than 250 ORFs from HIV-1, human T cell leukemia virus types 1 (HTLV-1) and 2 (HTLV-2), hepatitis C virus (HCV), Epstein-Barr virus (EBV), human herpesvirus 6A (HHV6A) and 6B (HHV6B), and Kaposi's sarcoma-associated herpesvirus (KSHV) which were PCR-amplified and spotted on glass slides. They then hybridized their slides with Cy3-or Cy5labeled genomic DNA or cDNAs derived from various virus-infected cells. Their multivirus-chip was found to be highly specific and sensitive for detecting different viral genomic sequences in cell lines. Moreover, the chip could also detect the effect of various drugs on viral gene expression. In such instance, cell lines latently infected with HIV-1 and KSHV were used to generate profiles of viral gene expression in the presence of cyclin-dependent Schematic drawing of the multivirus-chip that possesses multiple functions kinase inhibitor (CKI), Roscovitine, which was applied to cells to suppress the reactivation of latently infected viruses.\",\n",
       "  'cite_spans': [{'start': 31, 'end': 34, 'text': '[2]', 'ref_id': 'BIBREF1'}],\n",
       "  'ref_spans': [{'start': 253,\n",
       "    'end': 262,\n",
       "    'text': '(Figure 1',\n",
       "    'ref_id': 'FIGREF0'}],\n",
       "  'section': 'Abstract'},\n",
       " {'text': 'Ghedin, et al. [2] also studied the role of cellular chromatin structure on viral gene expression using their multivirus-chip.',\n",
       "  'cite_spans': [{'start': 15, 'end': 18, 'text': '[2]', 'ref_id': 'BIBREF1'}],\n",
       "  'ref_spans': [],\n",
       "  'section': 'Abstract'},\n",
       " {'text': 'They employed the chromatin immunoprecipitation technique (ChIP) [3] to isolate cellular DNA fragments that were bound to phosphorylated histone H3 (P-H3). These DNA fragments were hybridized to the viral ORFs contained on the multivirus-chip to investigate the role of phospho-H3 on viral gene expression. They showed that whether transcriptionally active or silent the chromatin state played a role in regulating the expression of KSHV genes under the different cellular context. Current routine clinical diagnostics employ PCR, Southern blotting, Northern blotting, DNA sequencing and microarray hybridization to detect and characterize genes of interest in biomedicine. PCR is generally regarded as the most sensitive diagnostic method. However, Iyer, et al. [4] have shown that the sensitivity of cDNA-chip hybridization is comparable to that of TaqMan-driven quantitative PCR assay, and that the microarray hybridization technique is less likely to be complicated by high false positive rates due to carry-over contaminations. Furthermore, using microarrays, the viral gene transcripts in infected cells can be easily detected by hybridization without any prior amplification steps, and the microarray technique requires much less experimental material when compared to Southern or Northern blotting and can provide high sensitivity in the setting of large throughput.',\n",
       "  'cite_spans': [{'start': 65, 'end': 68, 'text': '[3]', 'ref_id': 'BIBREF2'},\n",
       "   {'start': 763, 'end': 766, 'text': '[4]', 'ref_id': 'BIBREF3'}],\n",
       "  'ref_spans': [],\n",
       "  'section': 'Abstract'},\n",
       " {'text': 'In view of the above, the multivirus-chip described in Retrovirology [2] holds several advantages over other more commonly used techniques (e.g. PCR, DNA sequencing) for the diagnosis of viral infections. First, this chip provides a more accurate diagnosis of viral infection by simultaneously evaluating the transcription of all viral genes, and can use such cumulative data to correlate infection with clinical disease manifestations. Second, the high throughput and flexible synthesis nature of DNA microarray construction can allow scientists to tailor-make and rapidly alter arrays to match evolving emergence of new pathogens. The SARS genome chip made by the US NIAID, NIH is a good example [5] of how diagnostic arrays can be developed quickly and be used in a timely manner.',\n",
       "  'cite_spans': [{'start': 69, 'end': 72, 'text': '[2]', 'ref_id': 'BIBREF1'},\n",
       "   {'start': 698, 'end': 701, 'text': '[5]', 'ref_id': 'BIBREF4'}],\n",
       "  'ref_spans': [],\n",
       "  'section': 'Abstract'},\n",
       " {'text': 'Finally, the most novel application described by Ghedin, et al. is their use of microarrays to correlate the cellular \"histone code\" [6] with the promoter activity of KSHV. Usually the transcription of a gene located on chromosomal DNA is influenced not only by the cis-acting ele-ments (or DNA-binding motifs), but also by the structure of chromatin. The latter can be vary depending on the post-translational modifications of histone proteins. Methylation, acetylation, and/or phosphorylation of certain amino acid residues at the amino terminal \"tails\" of histone H3 and/or H4 can indeed influence chromatin structure. Thus accumulating evidence has shown that chromatin-associated proteins and their modifications play vital roles in many physiological processes such as growth, differentiation, and development in mammals, plants and fungi [6, 7] . Many studies have used DNA array technology to investigate viral gene expression or to genotype viral isolates; however, none has used this technique to study the influence of cellular chromatin structure on viral gene expression [1]. Ghedin, et al. [2] demonstrated that only DNA fragments derived from ChIP of latent BCBL-1 cell genomic DNA captured using phospho-H3 antibody bound specifically to the KSHV ORF on the multivirus-chip. This result suggests that latent KSHV genome in BCBL-1 cells is packed into a nucleosomal structure and that histone H3 proteins near the viral promoter can be phosphorylated at serines to make the DNA at the promoter region less tightly packed with histones and more easily accessible to transcription factors.',\n",
       "  'cite_spans': [{'start': 49,\n",
       "    'end': 63,\n",
       "    'text': 'Ghedin, et al.',\n",
       "    'ref_id': None},\n",
       "   {'start': 133, 'end': 136, 'text': '[6]', 'ref_id': 'BIBREF5'},\n",
       "   {'start': 845, 'end': 848, 'text': '[6,', 'ref_id': 'BIBREF5'},\n",
       "   {'start': 849, 'end': 851, 'text': '7]', 'ref_id': 'BIBREF6'},\n",
       "   {'start': 1104, 'end': 1107, 'text': '[2]', 'ref_id': 'BIBREF1'}],\n",
       "  'ref_spans': [],\n",
       "  'section': 'Abstract'},\n",
       " {'text': 'In conclusion, the multivirus-chip improvements developed by Ghedin, et al. [2] provide versatile clinical and basic uses. In the near future, such chips are likely to be used to detect viral co-infections in many different clinical settings. ',\n",
       "  'cite_spans': [{'start': 76, 'end': 79, 'text': '[2]', 'ref_id': 'BIBREF1'}],\n",
       "  'ref_spans': [],\n",
       "  'section': 'Abstract'}]"
      ]
     },
     "execution_count": 261,
     "metadata": {},
     "output_type": "execute_result"
    }
   ],
   "source": [
    "pmc_art['body_text']"
   ]
  },
  {
   "cell_type": "code",
   "execution_count": null,
   "id": "6909ef29",
   "metadata": {},
   "outputs": [],
   "source": [
    "# falto nombre clase."
   ]
  },
  {
   "cell_type": "code",
   "execution_count": null,
   "id": "95883279",
   "metadata": {},
   "outputs": [],
   "source": [
    "# make class for handle general db\n",
    "# METHODS\n",
    "# create db\n",
    "# store things in db\n",
    "# load db in memory\n",
    "# write db in disk"
   ]
  },
  {
   "cell_type": "code",
   "execution_count": null,
   "id": "c85a6d09",
   "metadata": {},
   "outputs": [],
   "source": [
    "# make class for handle bioportal api service\n",
    "# METHODS\n",
    "# handle web servise\n",
    "# handle virtual machine service\n",
    "# call annotator"
   ]
  },
  {
   "cell_type": "code",
   "execution_count": null,
   "id": "cf65342b",
   "metadata": {},
   "outputs": [],
   "source": [
    "# proccess json\n",
    "# read file\n",
    "# map keys\n",
    "# iterate over keys\n",
    "# call api with section content\n",
    "# store annotations for section\n",
    "# count annotations for each annotated section\n",
    "# store count\n",
    "# store annotations and count annotation for file in db"
   ]
  },
  {
   "cell_type": "code",
   "execution_count": null,
   "id": "e0d7d611",
   "metadata": {},
   "outputs": [],
   "source": [
    "# json article annotations\n",
    "\n",
    "{\n",
    "    'id':str(id_db),\n",
    "    'annotations':{\n",
    "        'section_x':[],\n",
    "        'section_y':[],\n",
    "        ...\n",
    "        'section_z':[]\n",
    "    }\n",
    "    count_annotations:[\n",
    "        \n",
    "    ]\n",
    "}"
   ]
  },
  {
   "cell_type": "code",
   "execution_count": null,
   "id": "aef54063",
   "metadata": {},
   "outputs": [],
   "source": [
    "# data management plan\n",
    "# -> intelectual property right management\n",
    "#    -> identification of data\n",
    "#    -> funder requeriments\n",
    "#    -> authority\n",
    "#    -> composite\n",
    "#    -> sharing requeriments\n",
    "#        ->permisions\n",
    "#        conditions\n",
    "#        restrictions\n",
    "#        select and grouping\n",
    "#    -> identifiying license more suitable\n",
    "#    -> depositing data in data verse\n",
    "#    -> setting up permissions in dataverse\n",
    "#       -> diligence metadata fields related to license\n",
    "#       ->"
   ]
  },
  {
   "cell_type": "code",
   "execution_count": 336,
   "id": "55240363",
   "metadata": {},
   "outputs": [],
   "source": [
    "class articleProcess:\n",
    "    def __init__(self,record):\n",
    "        \n",
    "        self.record = record\n",
    "        \n",
    "        self.pmc_art_ann = {\n",
    "                            'id':record['paper_id'],\n",
    "                            'annotations':{},\n",
    "                            'annotations_count':[],\n",
    "                            'annotations_count_resume':{}, # total\n",
    "                            'token_resumen': {}\n",
    "                            }\n",
    "        \n",
    "    def AnnotateRecord(self):\n",
    "        \n",
    "        for chunk in self.record['body_text']:\n",
    "            # get annotation for chunk\n",
    "            ann = get_annotations(chunk['text'],ontologies)\n",
    "            print(chunk['text']+'\\n')\n",
    "            # store annotation\n",
    "            section = chunk['section'].split(':::')[-1]\n",
    "            if section not in self.pmc_art_ann['annotations'].keys():\n",
    "                self.pmc_art_ann['annotations'][section] = ann\n",
    "            else:\n",
    "                self.pmc_art_ann['annotations'][section].append(ann)\n",
    "            # count annotations\n",
    "            ann_count=count_annotations(ann)\n",
    "            #store annotation count\n",
    "            self.pmc_art_ann['annotations_count'].append(ann_count)\n",
    "            \n",
    "    def Resumen(self):\n",
    "        word_resume = []\n",
    "        for onto in ontologies.split(','):\n",
    "            self.pmc_art_ann['annotations_count_resume'][onto]=0\n",
    "            self.pmc_art_ann['annotations_count_resume'][onto+'_Matched_Term'] = []\n",
    "\n",
    "        for onto in ontologies.split(','): \n",
    "            for i in self.pmc_art_ann['annotations_count']:\n",
    "                if onto in i.keys():\n",
    "                    self.pmc_art_ann['annotations_count_resume'][onto] += i[onto]\n",
    "                    self.pmc_art_ann['annotations_count_resume'][onto + '_Matched_Term'].extend(i[onto+'_Matched_Term'])\n",
    "                    word_resume.extend(i[onto+'_Matched_Term'])\n",
    "        \n",
    "        word_count = {}\n",
    "        for i in word_resume:\n",
    "            if i not in word_count.keys():\n",
    "                word_count[i] = 1\n",
    "            else:\n",
    "                word_count[i]+=1\n",
    "\n",
    "        stops = stopwords.words('english')\n",
    "        tokens = ''\n",
    "\n",
    "        for i in ins.record['body_text']:\n",
    "            tokens=tokens+''+i['text']\n",
    "            token = [t for t in tokens.split(' ') if t not in stops]\n",
    "\n",
    "        self.pmc_art_ann['token_resumen']['article_tokens'] = list(set(token))\n",
    "        self.pmc_art_ann['token_resumen']['count_matches'] = word_count\n",
    "        self.pmc_art_ann['token_resumen']['all_matches'] = word_resume\n",
    "        self.pmc_art_ann['token_resumen']['unique_matches'] =  list(set(word_resume))\n",
    "        self.pmc_art_ann['token_resumen']['porcentage_matched'] = len(self.pmc_art_ann['token_resumen']['unique_matches'])/len(self.pmc_art_ann['token_resumen']['article_tokens'])\n",
    "        "
   ]
  },
  {
   "cell_type": "code",
   "execution_count": 337,
   "id": "20bbc661",
   "metadata": {},
   "outputs": [],
   "source": [
    "ins = articleProcess(pmc_art)"
   ]
  },
  {
   "cell_type": "code",
   "execution_count": 338,
   "id": "884c6d4e",
   "metadata": {},
   "outputs": [
    {
     "data": {
      "text/plain": [
       "dict_keys(['id', 'annotations', 'annotations_count', 'annotations_count_resume', 'token_resumen'])"
      ]
     },
     "execution_count": 338,
     "metadata": {},
     "output_type": "execute_result"
    }
   ],
   "source": [
    "ins.pmc_art_ann.keys()"
   ]
  },
  {
   "cell_type": "code",
   "execution_count": 339,
   "id": "6a799a11",
   "metadata": {},
   "outputs": [
    {
     "name": "stdout",
     "output_type": "stream",
     "text": [
      "There are hundreds of viruses that infect different human organs and cause diseases. Some fatal emerging viral infections have become serious public health issues worldwide. Early diagnosis and subsequent treatment are therefore essential for fighting viral infections. Current diagnostic techniques frequently employ polymerase chain reaction (PCR)-based methods to quickly detect the pathogenic viruses and establish the etiology of the disease or illness. However, the fast PCR method suffers from many drawbacks such as a high false-positive rate and the ability to detect only one or a few gene targets at a time. Microarray technology solves the problems of the PCR limitations and can be effectively applied to all fields of molecular medicine. Recently, a report in Retrovirology described a multi-virus DNA array that contains more than 250 open reading frames from eight human viruses including human immunodeficiency virus type 1. This array can be used to detect multiple viral co-infections in cells and in vivo. Another benefit of this kind of multi-virus array is in studying promoter activity and viral gene expression and correlating such readouts with the progression of disease and reactivation of latent infections. Thus, the virus DNA-chip development reported in Retrovirology is an important advance in diagnostic application which could be a potent clinical tool for characterizing viral co-infections in AIDS as well as other patients.\n",
      "\n",
      "Microarray technology has been proven to be a powerful tool with great potential for biological and medical uses. In this technique, recombinant DNA fragments or synthesized oligonucleotides affixed on the surface of glass slides or nylon membranes are used for detecting complementary nucleic acid sequences (frequently representing a few hundred to >10,000 genes/expressed sequence tags) as well as for genotyping microorganisms and for profiling the gene-expression patterns in cells from higher organisms [1].\n",
      "\n",
      "A new report by Ghedin, et al. [2] in Retrovirology describes the successful use of a multi-virus array (termed multivi-rus-chip) to detect multiple viral co-infections in cultured cells as well as to study viral gene expression and promoter activities (Figure 1 ). Ghedin's multivirus-chip contains genes from eight human viruses including human immunodeficiency virus type 1 (HIV-1). Conceptually, this chip can be used to detect viral co-infections in AIDS patients who are frequently rendered susceptible to additional opportunistic infections. In developing their multivirus-chip, Ghedin, et al. tested more than 250 ORFs from HIV-1, human T cell leukemia virus types 1 (HTLV-1) and 2 (HTLV-2), hepatitis C virus (HCV), Epstein-Barr virus (EBV), human herpesvirus 6A (HHV6A) and 6B (HHV6B), and Kaposi's sarcoma-associated herpesvirus (KSHV) which were PCR-amplified and spotted on glass slides. They then hybridized their slides with Cy3-or Cy5labeled genomic DNA or cDNAs derived from various virus-infected cells. Their multivirus-chip was found to be highly specific and sensitive for detecting different viral genomic sequences in cell lines. Moreover, the chip could also detect the effect of various drugs on viral gene expression. In such instance, cell lines latently infected with HIV-1 and KSHV were used to generate profiles of viral gene expression in the presence of cyclin-dependent Schematic drawing of the multivirus-chip that possesses multiple functions kinase inhibitor (CKI), Roscovitine, which was applied to cells to suppress the reactivation of latently infected viruses.\n",
      "\n",
      "Ghedin, et al. [2] also studied the role of cellular chromatin structure on viral gene expression using their multivirus-chip.\n",
      "\n",
      "They employed the chromatin immunoprecipitation technique (ChIP) [3] to isolate cellular DNA fragments that were bound to phosphorylated histone H3 (P-H3). These DNA fragments were hybridized to the viral ORFs contained on the multivirus-chip to investigate the role of phospho-H3 on viral gene expression. They showed that whether transcriptionally active or silent the chromatin state played a role in regulating the expression of KSHV genes under the different cellular context. Current routine clinical diagnostics employ PCR, Southern blotting, Northern blotting, DNA sequencing and microarray hybridization to detect and characterize genes of interest in biomedicine. PCR is generally regarded as the most sensitive diagnostic method. However, Iyer, et al. [4] have shown that the sensitivity of cDNA-chip hybridization is comparable to that of TaqMan-driven quantitative PCR assay, and that the microarray hybridization technique is less likely to be complicated by high false positive rates due to carry-over contaminations. Furthermore, using microarrays, the viral gene transcripts in infected cells can be easily detected by hybridization without any prior amplification steps, and the microarray technique requires much less experimental material when compared to Southern or Northern blotting and can provide high sensitivity in the setting of large throughput.\n",
      "\n",
      "In view of the above, the multivirus-chip described in Retrovirology [2] holds several advantages over other more commonly used techniques (e.g. PCR, DNA sequencing) for the diagnosis of viral infections. First, this chip provides a more accurate diagnosis of viral infection by simultaneously evaluating the transcription of all viral genes, and can use such cumulative data to correlate infection with clinical disease manifestations. Second, the high throughput and flexible synthesis nature of DNA microarray construction can allow scientists to tailor-make and rapidly alter arrays to match evolving emergence of new pathogens. The SARS genome chip made by the US NIAID, NIH is a good example [5] of how diagnostic arrays can be developed quickly and be used in a timely manner.\n",
      "\n",
      "Finally, the most novel application described by Ghedin, et al. is their use of microarrays to correlate the cellular \"histone code\" [6] with the promoter activity of KSHV. Usually the transcription of a gene located on chromosomal DNA is influenced not only by the cis-acting ele-ments (or DNA-binding motifs), but also by the structure of chromatin. The latter can be vary depending on the post-translational modifications of histone proteins. Methylation, acetylation, and/or phosphorylation of certain amino acid residues at the amino terminal \"tails\" of histone H3 and/or H4 can indeed influence chromatin structure. Thus accumulating evidence has shown that chromatin-associated proteins and their modifications play vital roles in many physiological processes such as growth, differentiation, and development in mammals, plants and fungi [6, 7] . Many studies have used DNA array technology to investigate viral gene expression or to genotype viral isolates; however, none has used this technique to study the influence of cellular chromatin structure on viral gene expression [1]. Ghedin, et al. [2] demonstrated that only DNA fragments derived from ChIP of latent BCBL-1 cell genomic DNA captured using phospho-H3 antibody bound specifically to the KSHV ORF on the multivirus-chip. This result suggests that latent KSHV genome in BCBL-1 cells is packed into a nucleosomal structure and that histone H3 proteins near the viral promoter can be phosphorylated at serines to make the DNA at the promoter region less tightly packed with histones and more easily accessible to transcription factors.\n",
      "\n",
      "In conclusion, the multivirus-chip improvements developed by Ghedin, et al. [2] provide versatile clinical and basic uses. In the near future, such chips are likely to be used to detect viral co-infections in many different clinical settings. \n",
      "\n"
     ]
    }
   ],
   "source": [
    "ins.AnnotateRecord()"
   ]
  },
  {
   "cell_type": "code",
   "execution_count": 340,
   "id": "cacd49ca",
   "metadata": {},
   "outputs": [],
   "source": [
    "ins.Resumen()"
   ]
  },
  {
   "cell_type": "code",
   "execution_count": 343,
   "id": "330db04a",
   "metadata": {},
   "outputs": [
    {
     "data": {
      "text/plain": [
       "dict_keys(['id', 'annotations', 'annotations_count', 'annotations_count_resume', 'token_resumen'])"
      ]
     },
     "execution_count": 343,
     "metadata": {},
     "output_type": "execute_result"
    }
   ],
   "source": [
    "ins.pmc_art_ann.keys()"
   ]
  },
  {
   "cell_type": "code",
   "execution_count": 352,
   "id": "eaa6f579",
   "metadata": {},
   "outputs": [
    {
     "data": {
      "text/plain": [
       "0.4411764705882353"
      ]
     },
     "execution_count": 352,
     "metadata": {},
     "output_type": "execute_result"
    }
   ],
   "source": [
    "ins.pmc_art_ann['token_resumen']['porcentage_matched']"
   ]
  },
  {
   "cell_type": "markdown",
   "id": "9c03a4b8",
   "metadata": {},
   "source": [
    "############################ "
   ]
  },
  {
   "cell_type": "code",
   "execution_count": 236,
   "id": "ba9bcdb0",
   "metadata": {},
   "outputs": [],
   "source": [
    "text = 'There are hundreds of viruses that infect different human organs and cause diseases. Some fatal emerging viral infections have become serious public health issues worldwide. Early diagnosis and subsequent treatment are therefore essential for fighting viral infections. Current diagnostic techniques frequently employ polymerase chain reaction (PCR)-based methods to quickly detect the pathogenic viruses and establish the etiology of the disease or illness. However, the fast PCR method suffers from many drawbacks such as a high false-positive rate and the ability to detect only one or a few gene targets at a time. Microarray technology solves the problems of the PCR limitations and can be effectively applied to all fields of molecular medicine. Recently, a report in Retrovirology described a multi-virus DNA array that contains more than 250 open reading frames from eight human viruses including human immunodeficiency virus type 1. This array can be used to detect multiple viral co-infections in cells and in vivo. Another benefit of this kind of multi-virus array is in studying promoter activity and viral gene expression and correlating such readouts with the progression of disease and reactivation of latent infections. Thus, the virus DNA-chip development reported in Retrovirology is an important advance in diagnostic application which could be a potent clinical tool for characterizing viral co-infections in AIDS as well as other patients.'"
   ]
  },
  {
   "cell_type": "code",
   "execution_count": 321,
   "id": "c9160754",
   "metadata": {},
   "outputs": [],
   "source": [
    "con = ins.pmc_art_ann['annotations_count']"
   ]
  },
  {
   "cell_type": "code",
   "execution_count": 322,
   "id": "bcb354fb",
   "metadata": {},
   "outputs": [],
   "source": [
    "count_resume = {}\n",
    "word_resume = []\n",
    "for onto in ontologies.split(','):\n",
    "    count_resume[onto]=0\n",
    "    count_resume[onto+'_Matched_Term'] = []\n",
    "\n",
    "\n",
    "for i in con:\n",
    "    for onto in ontologies.split(','):\n",
    "        if onto in i.keys():\n",
    "            count_resume[onto] += i[onto]\n",
    "            count_resume[onto + '_Matched_Term'].extend(i[onto+'_Matched_Term'])\n",
    "            word_resume.extend(i[onto+'_Matched_Term'])"
   ]
  },
  {
   "cell_type": "code",
   "execution_count": 323,
   "id": "9ac1d7b9",
   "metadata": {},
   "outputs": [
    {
     "data": {
      "text/plain": [
       "dict_keys(['PREMEDONTO', 'PREMEDONTO_Matched_Term', 'MESH', 'MESH_Matched_Term', 'COVID19', 'COVID19_Matched_Term', 'SNOMEDCT', 'SNOMEDCT_Matched_Term'])"
      ]
     },
     "execution_count": 323,
     "metadata": {},
     "output_type": "execute_result"
    }
   ],
   "source": [
    "count_resume.keys()"
   ]
  },
  {
   "cell_type": "code",
   "execution_count": 324,
   "id": "214158da",
   "metadata": {},
   "outputs": [
    {
     "data": {
      "text/plain": [
       "445"
      ]
     },
     "execution_count": 324,
     "metadata": {},
     "output_type": "execute_result"
    }
   ],
   "source": [
    "len(word_resume)"
   ]
  },
  {
   "cell_type": "code",
   "execution_count": 325,
   "id": "a281c33c",
   "metadata": {},
   "outputs": [
    {
     "data": {
      "text/plain": [
       "103"
      ]
     },
     "execution_count": 325,
     "metadata": {},
     "output_type": "execute_result"
    }
   ],
   "source": [
    "len(count_resume['MESH_Matched_Term'])"
   ]
  },
  {
   "cell_type": "code",
   "execution_count": 326,
   "id": "34b179d3",
   "metadata": {},
   "outputs": [],
   "source": [
    "stops = stopwords.words('english')\n",
    "\n",
    "tokens = ''\n",
    "\n",
    "for i in ins.record['body_text']:\n",
    "    tokens=tokens+''+i['text']\n",
    "\n",
    "token = [t for t in tokens.split(' ') if t not in stops]"
   ]
  },
  {
   "cell_type": "code",
   "execution_count": 327,
   "id": "645b2924",
   "metadata": {},
   "outputs": [],
   "source": [
    "word_count = {}\n",
    "for i in word_resume:\n",
    "    if i not in word_count.keys():\n",
    "        word_count[i] = 1\n",
    "    else:\n",
    "        word_count[i]+=1"
   ]
  },
  {
   "cell_type": "code",
   "execution_count": 328,
   "id": "253b8606",
   "metadata": {},
   "outputs": [
    {
     "data": {
      "text/plain": [
       "{'Difference': 4,\n",
       " 'Human': 6,\n",
       " 'Have': 3,\n",
       " 'Treat': 1,\n",
       " 'Therapeutic Procedure': 1,\n",
       " 'Essential': 2,\n",
       " 'Current': 4,\n",
       " 'Diagnosis': 4,\n",
       " 'Diagnostic': 2,\n",
       " 'Technique': 11,\n",
       " 'Frequently': 3,\n",
       " 'Use': 5,\n",
       " 'Basis': 2,\n",
       " 'Rapidly': 3,\n",
       " 'Method': 2,\n",
       " 'High': 8,\n",
       " 'Positive': 2,\n",
       " 'Rate': 1,\n",
       " 'Ability': 1,\n",
       " 'Gene': 7,\n",
       " 'Time': 5,\n",
       " 'Technology': 6,\n",
       " 'Report': 4,\n",
       " 'Multiple': 4,\n",
       " 'DNA': 10,\n",
       " 'Cell': 9,\n",
       " 'Benefit': 1,\n",
       " 'Type': 1,\n",
       " 'Activity': 9,\n",
       " 'Active': 4,\n",
       " 'Gene Expression': 11,\n",
       " 'Development': 4,\n",
       " 'Important': 1,\n",
       " 'Application': 6,\n",
       " 'Clinical': 8,\n",
       " 'Patient': 2,\n",
       " 'virology': 2,\n",
       " 'Viruses': 2,\n",
       " 'Disease': 4,\n",
       " 'Infections': 4,\n",
       " 'Public Health': 1,\n",
       " 'Early Diagnosis': 1,\n",
       " 'therapy': 1,\n",
       " 'Polymerase Chain Reaction': 1,\n",
       " 'Methods': 1,\n",
       " 'methods': 1,\n",
       " 'etiology': 1,\n",
       " 'Molecular Medicine': 1,\n",
       " 'Virus': 6,\n",
       " 'Open Reading Frames': 1,\n",
       " 'Cells': 5,\n",
       " 'Patients': 2,\n",
       " 'Fatal': 1,\n",
       " 'Fighting': 1,\n",
       " 'Polymerase chain reaction': 1,\n",
       " 'Etiology': 1,\n",
       " 'Illness': 1,\n",
       " 'Fast': 1,\n",
       " 'False': 1,\n",
       " 'Recent': 1,\n",
       " '250': 2,\n",
       " 'Including': 2,\n",
       " 'Human immunodeficiency virus': 2,\n",
       " 'Virus type': 4,\n",
       " 'Type 1': 2,\n",
       " 'Viral gene': 5,\n",
       " 'Gene expression': 5,\n",
       " 'Progression': 1,\n",
       " 'Latent': 2,\n",
       " 'Reported': 1,\n",
       " 'Application - unit of product usage': 2,\n",
       " 'Tool': 2,\n",
       " 'AIDS': 2,\n",
       " 'Greater': 1,\n",
       " 'Potential': 1,\n",
       " 'Biology': 1,\n",
       " 'Biological': 1,\n",
       " 'Medical': 2,\n",
       " 'Nucleic Acids': 2,\n",
       " 'Genotyping': 3,\n",
       " 'Expression': 6,\n",
       " 'Organism': 1,\n",
       " 'Oligonucleotides': 1,\n",
       " 'Glass': 4,\n",
       " 'Membranes': 1,\n",
       " 'Genes': 4,\n",
       " 'Expressed Sequence Tags': 1,\n",
       " 'Proven': 1,\n",
       " 'Biologic': 1,\n",
       " 'Recombinant deoxyribonucleic acid': 1,\n",
       " 'Surface': 2,\n",
       " 'Nylon': 1,\n",
       " 'Nucleic acid': 1,\n",
       " 'Patterns': 1,\n",
       " 'New': 5,\n",
       " 'Success': 1,\n",
       " 'Clinical Study': 2,\n",
       " 'Study': 4,\n",
       " 'Susceptibility': 1,\n",
       " 'Additional': 1,\n",
       " 'Genome': 7,\n",
       " 'Present': 2,\n",
       " 'Sensitivity': 4,\n",
       " 'Effect': 2,\n",
       " 'Kinase': 3,\n",
       " 'Cells, Cultured': 1,\n",
       " 'HIV-1': 1,\n",
       " 'Opportunistic Infections': 1,\n",
       " 'T-Lymphocytes': 1,\n",
       " 'Leukemia': 3,\n",
       " 'Hepacivirus': 1,\n",
       " 'Herpesvirus 8, Human': 3,\n",
       " 'Cell Line': 1,\n",
       " 'Cyclins': 1,\n",
       " 'Drawing': 1,\n",
       " 'Phosphotransferases': 1,\n",
       " 'Roscovitine': 1,\n",
       " 'Successful': 1,\n",
       " 'Use of': 2,\n",
       " 'Cultured cells': 1,\n",
       " 'Susceptible': 1,\n",
       " 'Types': 1,\n",
       " 'Hepatitis C virus': 1,\n",
       " 'Human herpesvirus 6A': 1,\n",
       " 'Human herpesvirus 8': 1,\n",
       " 'Specific': 1,\n",
       " 'Sensitive': 2,\n",
       " 'Dependent': 1,\n",
       " 'Role': 6,\n",
       " 'Chromatin': 6,\n",
       " 'State': 3,\n",
       " 'Context': 2,\n",
       " 'Routine': 2,\n",
       " 'Diagnostic Procedure': 1,\n",
       " 'Quantitative Concept': 1,\n",
       " 'Likely': 2,\n",
       " 'Due To': 1,\n",
       " 'Detection': 1,\n",
       " 'Prior': 1,\n",
       " 'Much': 1,\n",
       " 'Material': 3,\n",
       " 'Provide': 2,\n",
       " 'Large': 2,\n",
       " 'Chromatin Immunoprecipitation': 1,\n",
       " 'Blotting, Southern': 1,\n",
       " 'Blotting, Northern': 1,\n",
       " 'Sensitivity and Specificity': 1,\n",
       " 'Employed': 1,\n",
       " 'Silent': 1,\n",
       " 'Hybridization': 1,\n",
       " 'Quantitative': 1,\n",
       " 'Assay technique': 1,\n",
       " 'Complicated': 1,\n",
       " 'False positive': 1,\n",
       " 'Due to': 1,\n",
       " 'Detected': 1,\n",
       " 'View': 2,\n",
       " 'Accuracy': 1,\n",
       " 'Data': 1,\n",
       " 'Second': 4,\n",
       " 'Make': 2,\n",
       " 'Good': 2,\n",
       " 'Example': 1,\n",
       " 'diagnosis': 1,\n",
       " 'Nature': 2,\n",
       " 'National Institute of Allergy and Infectious Diseases (U.S.)': 1,\n",
       " 'Accurate': 1,\n",
       " 'Viral disease': 1,\n",
       " 'Flexible': 1,\n",
       " 'Construction': 2,\n",
       " 'Evolving': 1,\n",
       " 'Is a': 1,\n",
       " 'Post': 1,\n",
       " 'Protein': 1,\n",
       " 'And/Or': 1,\n",
       " 'Certain': 2,\n",
       " 'Influence': 1,\n",
       " 'Evidence': 1,\n",
       " 'Growth': 2,\n",
       " 'Genotype': 2,\n",
       " 'Outcome': 1,\n",
       " 'Near': 2,\n",
       " 'Protein Domain': 1,\n",
       " 'Geographic Area': 1,\n",
       " 'Histone Code': 1,\n",
       " 'Genes, vif': 1,\n",
       " 'Proteins': 1,\n",
       " 'Methylation': 1,\n",
       " 'Acetylation': 1,\n",
       " 'Phosphorylation': 2,\n",
       " 'Amino Acids': 1,\n",
       " 'Tail': 1,\n",
       " 'Play and Playthings': 1,\n",
       " 'Mammals': 1,\n",
       " 'Plants': 1,\n",
       " 'microbiology': 1,\n",
       " 'Fungi': 2,\n",
       " 'Histones': 1,\n",
       " 'Transcription Factors': 1,\n",
       " 'Binding - action': 1,\n",
       " 'After values': 1,\n",
       " 'Amino acid': 1,\n",
       " 'Vital': 1,\n",
       " 'Genotype determination': 1,\n",
       " 'Antibody': 1,\n",
       " 'Result': 1,\n",
       " '1/3 meter': 2,\n",
       " 'Region': 1,\n",
       " 'Future': 1,\n",
       " 'French fries': 1}"
      ]
     },
     "execution_count": 328,
     "metadata": {},
     "output_type": "execute_result"
    }
   ],
   "source": [
    "word_count"
   ]
  },
  {
   "cell_type": "code",
   "execution_count": null,
   "id": "4e50cb9a",
   "metadata": {},
   "outputs": [],
   "source": []
  }
 ],
 "metadata": {
  "kernelspec": {
   "display_name": "Python 3",
   "language": "python",
   "name": "python3"
  },
  "language_info": {
   "codemirror_mode": {
    "name": "ipython",
    "version": 3
   },
   "file_extension": ".py",
   "mimetype": "text/x-python",
   "name": "python",
   "nbconvert_exporter": "python",
   "pygments_lexer": "ipython3",
   "version": "3.8.10"
  }
 },
 "nbformat": 4,
 "nbformat_minor": 5
}
