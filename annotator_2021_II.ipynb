{
 "cells": [
  {
   "cell_type": "code",
   "execution_count": 14,
   "id": "2b141ce5",
   "metadata": {},
   "outputs": [],
   "source": [
    "# %load annotatorcode.py\n",
    "# bioportal\n",
    "import os\n",
    "import json\n",
    "import requests\n",
    "import urllib\n",
    "from urllib import parse, request\n",
    "\n",
    "REST_URL = \"http://data.bioontology.org\"\n",
    "API_KEY = '3b00793b-f3cc-489c-9d6e-7a888f4b656e'\n",
    "PATH_TO_PAPERS = 'kaggle/'\n",
    "\n",
    "def parse_directory():\n",
    "    '''For parse and join paths in PATH_TO_PAPERS.\n",
    "       Output:path_files: list with all paths to record \n",
    "    '''\n",
    "    global path_files\n",
    "    path_files = []\n",
    "\n",
    "    for root, dirs, files in os.walk(PATH_TO_PAPERS):\n",
    "        for file in files:\n",
    "            path_files.append(os.path.join(root, file))\n",
    "\n",
    "    return path_files\n",
    "\n",
    "def load_json_record(path_to_record):\n",
    "    ''' Load entire json record for a paper.\n",
    "        Input: path to record.\n",
    "        Output: json_record.\n",
    "    '''\n",
    "    global json_record\n",
    "    with open(path_to_record, 'r') as json_handler:\n",
    "        json_record = json.load(json_handler)\n",
    "    return json_record\n",
    "\n",
    "def make_url_query(text_to_annotate):\n",
    "    global URL \n",
    "    URL = REST_URL + \"/annotator/?text=%s\"%(parse.quote(text_to_annotate))\n",
    "    return URL\n",
    "\n",
    "def get_json(url):\n",
    "    opener = urllib.request.build_opener()\n",
    "    opener.addheaders = [('Authorization', 'apikey token=' + API_KEY)]\n",
    "    return json.loads(opener.open(url).read())\n",
    "\n",
    "def call_endpoint_annotator(URL, PARAMS):\n",
    "    r = requests.get(url = URL, params = PARAMS)\n",
    "    global json_api_results\n",
    "    json_api_results = r.json()\n",
    "    return json_api_results\n",
    "\n",
    "def store_annotations(annotations,get_class=True):\n",
    "    anns = []\n",
    "    for result in annotations:\n",
    "        ann = {}\n",
    "        class_details = result[\"annotatedClass\"]\n",
    "        if get_class:\n",
    "            try:\n",
    "                class_details = get_json(result[\"annotatedClass\"][\"links\"][\"self\"])\n",
    "            except urllib.error.HTTPError:\n",
    "                print(f\"Error retrieving {result['annotatedClass']['@id']}\")\n",
    "                continue\n",
    "        ann['id'] = class_details[\"@id\"]\n",
    "        ann['preflabel'] = class_details[\"prefLabel\"]\n",
    "        ann['ontology'] = class_details[\"links\"][\"ontology\"]\n",
    "        ann['annotation_details'] =  []\n",
    "        for annotation in result['annotations']:\n",
    "            ann['annotation_details'].append(\n",
    "                {\n",
    "                    'from': str(annotation[\"from\"]),\n",
    "                    'to': str(annotation[\"to\"]),\n",
    "                    'match_type': annotation[\"matchType\"],\n",
    "                    'text': annotation['text']\n",
    "                })\n",
    "        if result[\"hierarchy\"]:\n",
    "            ann['hierarchy'] = []\n",
    "            for annotation in result[\"hierarchy\"]:\n",
    "                try:\n",
    "                    class_details = get_json(annotation[\"annotatedClass\"][\"links\"][\"self\"])\n",
    "                except urllib.error.HTTPError:\n",
    "                    print(f\"Error retrieving {annotation['annotatedClass']['@id']}\")\n",
    "                    continue\n",
    "                ann['hierarchy'].append(\n",
    "                    {\n",
    "                     'id':class_details[\"@id\"],\n",
    "                     'preflabel':class_details[\"prefLabel\"],\n",
    "                     'ontology':class_details[\"links\"][\"ontology\"],\n",
    "                     'distance_from_original_class':str(annotation[\"distance\"])\n",
    "                    })\n",
    "        anns.append(ann)\n",
    "    return anns\n",
    "\n",
    "def get_annotations(text_to_annotate,ontologies,expand_class_hierarchy='false',class_hierarchy_max_level=0):\n",
    "    \n",
    "    PARAMS = {'apikey':API_KEY,'ontologies':ontologies,\n",
    "              'expand_class_hierarchy':expand_class_hierarchy,\n",
    "              'class_hierarchy_max_level':0,\n",
    "              'longest_only':'true'\n",
    "             }\n",
    "    make_url_query(text_to_annotate)\n",
    "    call_endpoint_annotator(URL,PARAMS)\n",
    "    return store_annotations(json_api_results)"
   ]
  },
  {
   "cell_type": "code",
   "execution_count": 2,
   "id": "33f3b92e",
   "metadata": {},
   "outputs": [],
   "source": [
    "ontologies = \"PREMEDONTO,MESH,COVID19,SNOMEDCT\" # ontoportal id ontology."
   ]
  },
  {
   "cell_type": "code",
   "execution_count": 3,
   "id": "93dfaec4",
   "metadata": {},
   "outputs": [],
   "source": [
    "text_to_annotate = \"According to current live statistics at the time of editing this letter, Russia has been the third country in the world to be affected by COVID-19 with both new cases and death rates rising. It remains in a position of advantage due to the later onset of the viral spread within the country since the worldwide disease outbreak.\""
   ]
  },
  {
   "cell_type": "code",
   "execution_count": 4,
   "id": "50ed336e",
   "metadata": {},
   "outputs": [],
   "source": [
    "ann = get_annotations(text_to_annotate,ontologies)"
   ]
  },
  {
   "cell_type": "code",
   "execution_count": 5,
   "id": "08397bb4",
   "metadata": {},
   "outputs": [
    {
     "data": {
      "text/plain": [
       "[{'id': 'http://purl.bioontology.org/ontology/SNOMEDCT/15240007',\n",
       "  'preflabel': 'Current',\n",
       "  'ontology': 'https://data.bioontology.org/ontologies/SNOMEDCT',\n",
       "  'annotation_details': [{'from': '14',\n",
       "    'to': '20',\n",
       "    'match_type': 'PREF',\n",
       "    'text': 'CURRENT'}]},\n",
       " {'id': 'http://purl.obolibrary.org/obo/NCIT_C25471',\n",
       "  'preflabel': 'Current',\n",
       "  'ontology': 'https://data.bioontology.org/ontologies/PREMEDONTO',\n",
       "  'annotation_details': [{'from': '14',\n",
       "    'to': '20',\n",
       "    'match_type': 'PREF',\n",
       "    'text': 'CURRENT'}]},\n",
       " {'id': 'http://purl.bioontology.org/ontology/MESH/D020500',\n",
       "  'preflabel': 'Statistics',\n",
       "  'ontology': 'https://data.bioontology.org/ontologies/MESH',\n",
       "  'annotation_details': [{'from': '27',\n",
       "    'to': '36',\n",
       "    'match_type': 'PREF',\n",
       "    'text': 'STATISTICS'}]},\n",
       " {'id': 'http://purl.bioontology.org/ontology/SNOMEDCT/410669006',\n",
       "  'preflabel': 'Time',\n",
       "  'ontology': 'https://data.bioontology.org/ontologies/SNOMEDCT',\n",
       "  'annotation_details': [{'from': '45',\n",
       "    'to': '48',\n",
       "    'match_type': 'PREF',\n",
       "    'text': 'TIME'}]},\n",
       " {'id': 'http://purl.bioontology.org/ontology/SNOMEDCT/410670007',\n",
       "  'preflabel': 'Time',\n",
       "  'ontology': 'https://data.bioontology.org/ontologies/SNOMEDCT',\n",
       "  'annotation_details': [{'from': '45',\n",
       "    'to': '48',\n",
       "    'match_type': 'PREF',\n",
       "    'text': 'TIME'}]},\n",
       " {'id': 'http://purl.bioontology.org/ontology/MESH/D013995',\n",
       "  'preflabel': 'Time',\n",
       "  'ontology': 'https://data.bioontology.org/ontologies/MESH',\n",
       "  'annotation_details': [{'from': '45',\n",
       "    'to': '48',\n",
       "    'match_type': 'PREF',\n",
       "    'text': 'TIME'}]},\n",
       " {'id': 'http://purl.obolibrary.org/obo/NCIT_C25207',\n",
       "  'preflabel': 'Time',\n",
       "  'ontology': 'https://data.bioontology.org/ontologies/PREMEDONTO',\n",
       "  'annotation_details': [{'from': '45',\n",
       "    'to': '48',\n",
       "    'match_type': 'PREF',\n",
       "    'text': 'TIME'}]},\n",
       " {'id': 'http://purl.bioontology.org/ontology/SNOMEDCT/900000000000475002',\n",
       "  'preflabel': 'Time',\n",
       "  'ontology': 'https://data.bioontology.org/ontologies/SNOMEDCT',\n",
       "  'annotation_details': [{'from': '45',\n",
       "    'to': '48',\n",
       "    'match_type': 'PREF',\n",
       "    'text': 'TIME'}]},\n",
       " {'id': 'http://purl.bioontology.org/ontology/MESH/D016422',\n",
       "  'preflabel': 'Letter',\n",
       "  'ontology': 'https://data.bioontology.org/ontologies/MESH',\n",
       "  'annotation_details': [{'from': '66',\n",
       "    'to': '71',\n",
       "    'match_type': 'PREF',\n",
       "    'text': 'LETTER'}]},\n",
       " {'id': 'http://purl.bioontology.org/ontology/MESH/D012426',\n",
       "  'preflabel': 'Russia',\n",
       "  'ontology': 'https://data.bioontology.org/ontologies/MESH',\n",
       "  'annotation_details': [{'from': '74',\n",
       "    'to': '79',\n",
       "    'match_type': 'PREF',\n",
       "    'text': 'RUSSIA'}]},\n",
       " {'id': 'http://purl.bioontology.org/ontology/SNOMEDCT/223369002',\n",
       "  'preflabel': 'Country',\n",
       "  'ontology': 'https://data.bioontology.org/ontologies/SNOMEDCT',\n",
       "  'annotation_details': [{'from': '100',\n",
       "    'to': '106',\n",
       "    'match_type': 'PREF',\n",
       "    'text': 'COUNTRY'},\n",
       "   {'from': '284', 'to': '290', 'match_type': 'PREF', 'text': 'COUNTRY'}]},\n",
       " {'id': 'http://purl.obolibrary.org/obo/NCIT_C77972',\n",
       "  'preflabel': 'World',\n",
       "  'ontology': 'https://data.bioontology.org/ontologies/PREMEDONTO',\n",
       "  'annotation_details': [{'from': '115',\n",
       "    'to': '119',\n",
       "    'match_type': 'PREF',\n",
       "    'text': 'WORLD'}]},\n",
       " {'id': 'http://purl.bioontology.org/ontology/SNOMEDCT/247591002',\n",
       "  'preflabel': 'Affecting',\n",
       "  'ontology': 'https://data.bioontology.org/ontologies/SNOMEDCT',\n",
       "  'annotation_details': [{'from': '127',\n",
       "    'to': '134',\n",
       "    'match_type': 'SYN',\n",
       "    'text': 'AFFECTED'}]},\n",
       " {'id': 'http://purl.bioontology.org/ontology/MESH/D000086382',\n",
       "  'preflabel': 'COVID-19',\n",
       "  'ontology': 'https://data.bioontology.org/ontologies/MESH',\n",
       "  'annotation_details': [{'from': '139',\n",
       "    'to': '146',\n",
       "    'match_type': 'PREF',\n",
       "    'text': 'COVID-19'}]},\n",
       " {'id': 'http://www.semanticweb.org/clininf/covid19#OWLClass_0000000005',\n",
       "  'preflabel': 'COVID-19',\n",
       "  'ontology': 'https://data.bioontology.org/ontologies/COVID19',\n",
       "  'annotation_details': [{'from': '139',\n",
       "    'to': '146',\n",
       "    'match_type': 'PREF',\n",
       "    'text': 'COVID-19'}]},\n",
       " {'id': 'http://purl.bioontology.org/ontology/SNOMEDCT/840539006',\n",
       "  'preflabel': 'COVID-19',\n",
       "  'ontology': 'https://data.bioontology.org/ontologies/SNOMEDCT',\n",
       "  'annotation_details': [{'from': '139',\n",
       "    'to': '146',\n",
       "    'match_type': 'PREF',\n",
       "    'text': 'COVID-19'}]},\n",
       " {'id': 'http://purl.obolibrary.org/obo/NCIT_C25586',\n",
       "  'preflabel': 'New',\n",
       "  'ontology': 'https://data.bioontology.org/ontologies/PREMEDONTO',\n",
       "  'annotation_details': [{'from': '158',\n",
       "    'to': '160',\n",
       "    'match_type': 'PREF',\n",
       "    'text': 'NEW'}]},\n",
       " {'id': 'http://purl.bioontology.org/ontology/SNOMEDCT/7147002',\n",
       "  'preflabel': 'New',\n",
       "  'ontology': 'https://data.bioontology.org/ontologies/SNOMEDCT',\n",
       "  'annotation_details': [{'from': '158',\n",
       "    'to': '160',\n",
       "    'match_type': 'PREF',\n",
       "    'text': 'NEW'}]},\n",
       " {'id': 'http://purl.bioontology.org/ontology/SNOMEDCT/398241000',\n",
       "  'preflabel': 'Case',\n",
       "  'ontology': 'https://data.bioontology.org/ontologies/SNOMEDCT',\n",
       "  'annotation_details': [{'from': '162',\n",
       "    'to': '166',\n",
       "    'match_type': 'SYN',\n",
       "    'text': 'CASES'}]},\n",
       " {'id': 'http://purl.bioontology.org/ontology/MESH/D009026',\n",
       "  'preflabel': 'Mortality',\n",
       "  'ontology': 'https://data.bioontology.org/ontologies/MESH',\n",
       "  'annotation_details': [{'from': '172',\n",
       "    'to': '182',\n",
       "    'match_type': 'SYN',\n",
       "    'text': 'DEATH RATES'}]},\n",
       " {'id': 'http://purl.bioontology.org/ontology/SNOMEDCT/246268007',\n",
       "  'preflabel': 'Position',\n",
       "  'ontology': 'https://data.bioontology.org/ontologies/SNOMEDCT',\n",
       "  'annotation_details': [{'from': '208',\n",
       "    'to': '215',\n",
       "    'match_type': 'PREF',\n",
       "    'text': 'POSITION'}]},\n",
       " {'id': 'http://purl.bioontology.org/ontology/SNOMEDCT/42752001',\n",
       "  'preflabel': 'Due to',\n",
       "  'ontology': 'https://data.bioontology.org/ontologies/SNOMEDCT',\n",
       "  'annotation_details': [{'from': '230',\n",
       "    'to': '235',\n",
       "    'match_type': 'PREF',\n",
       "    'text': 'DUE TO'}]},\n",
       " {'id': 'http://purl.obolibrary.org/obo/NCIT_C89272',\n",
       "  'preflabel': 'Due To',\n",
       "  'ontology': 'https://data.bioontology.org/ontologies/PREMEDONTO',\n",
       "  'annotation_details': [{'from': '230',\n",
       "    'to': '235',\n",
       "    'match_type': 'PREF',\n",
       "    'text': 'DUE TO'}]},\n",
       " {'id': 'http://purl.bioontology.org/ontology/SNOMEDCT/77374008',\n",
       "  'preflabel': 'Onset of',\n",
       "  'ontology': 'https://data.bioontology.org/ontologies/SNOMEDCT',\n",
       "  'annotation_details': [{'from': '247',\n",
       "    'to': '254',\n",
       "    'match_type': 'PREF',\n",
       "    'text': 'ONSET OF'}]},\n",
       " {'id': 'http://purl.bioontology.org/ontology/SNOMEDCT/410677005',\n",
       "  'preflabel': 'Spread',\n",
       "  'ontology': 'https://data.bioontology.org/ontologies/SNOMEDCT',\n",
       "  'annotation_details': [{'from': '266',\n",
       "    'to': '271',\n",
       "    'match_type': 'PREF',\n",
       "    'text': 'SPREAD'}]},\n",
       " {'id': 'http://purl.bioontology.org/ontology/SNOMEDCT/443684005',\n",
       "  'preflabel': 'Disease outbreak',\n",
       "  'ontology': 'https://data.bioontology.org/ontologies/SNOMEDCT',\n",
       "  'annotation_details': [{'from': '312',\n",
       "    'to': '327',\n",
       "    'match_type': 'PREF',\n",
       "    'text': 'DISEASE OUTBREAK'}]}]"
      ]
     },
     "execution_count": 5,
     "metadata": {},
     "output_type": "execute_result"
    }
   ],
   "source": [
    "ann"
   ]
  },
  {
   "cell_type": "code",
   "execution_count": null,
   "id": "2f5e2353",
   "metadata": {},
   "outputs": [],
   "source": [
    "count = {}\n",
    "for i in ann:\n",
    "    onto = i['ontology'].split('/')[-1]\n",
    "    key = onto + \"_Matched_Term\"\n",
    "    if onto not in count.keys():\n",
    "        count[onto] = 1\n",
    "        count[key] = [i['preflabel']]\n",
    "    else:\n",
    "        count[onto] += 1\n",
    "        count[key].append(i['preflabel'])\n",
    "        \n",
    "    print(i['ontology'].split('/')[-1])"
   ]
  },
  {
   "cell_type": "code",
   "execution_count": 26,
   "id": "881c8b8c",
   "metadata": {},
   "outputs": [],
   "source": [
    "def count_annotations(ann):\n",
    "    count = {}\n",
    "    for i in ann:\n",
    "        onto = i['ontology'].split('/')[-1]\n",
    "        key = onto + \"_Matched_Term\"\n",
    "        if onto not in count.keys():\n",
    "            count[onto] = 1\n",
    "            count[key] = [i['preflabel']]\n",
    "        else:\n",
    "            count[onto] += 1\n",
    "            count[key].append(i['preflabel'])\n",
    "    return count"
   ]
  },
  {
   "cell_type": "code",
   "execution_count": null,
   "id": "da5f101e",
   "metadata": {},
   "outputs": [],
   "source": [
    "parse_directory()"
   ]
  },
  {
   "cell_type": "code",
   "execution_count": 18,
   "id": "07ae4062",
   "metadata": {},
   "outputs": [],
   "source": [
    "pmc_art = load_json_record(path_files[0])"
   ]
  },
  {
   "cell_type": "code",
   "execution_count": 29,
   "id": "e2868a69",
   "metadata": {},
   "outputs": [
    {
     "data": {
      "text/plain": [
       "dict_keys(['paper_id', 'metadata', 'body_text', 'ref_entries', 'back_matter', 'bib_entries'])"
      ]
     },
     "execution_count": 29,
     "metadata": {},
     "output_type": "execute_result"
    }
   ],
   "source": [
    "pmc_art.keys()"
   ]
  },
  {
   "cell_type": "code",
   "execution_count": 46,
   "id": "8be89afa",
   "metadata": {},
   "outputs": [],
   "source": [
    "pmc_art_ann = {\n",
    "    'id':'',\n",
    "    'annotations':{},\n",
    "    'annotations_count':[]\n",
    "}"
   ]
  },
  {
   "cell_type": "code",
   "execution_count": 67,
   "id": "615bd482",
   "metadata": {},
   "outputs": [
    {
     "name": "stdout",
     "output_type": "stream",
     "text": [
      "hnRNP A1 is an RNA-binding protein that contains two RNA-binding domains (RBDs) and a glycine-rich domain responsible for protein–protein interaction. It is involved in pre-mRNA splicing and transport of cellular RNAs (reviewed by Dreyfuss et al., 1993). It is predominantly located in the nucleus, but also shuttles between the nucleus and the cytoplasm (Piñol-Roma and Dreyfuss, 1992). The signal that mediates shuttling has been identified as a 38 amino acid sequence, termed M9, located near the C-terminus of hnRNP A1 between amino acids 268 and 305 (Michael et al., 1995; Siomi and Dreyfuss, 1995; Weighardt et al., 1995). Yeast two-hybrid screening with M9 as bait resulted in the discovery of a novel transportin-mediated pathway for nuclear import of hnRNP A1 (Pollard et al., 1996; Fridell et al., 1997; Siomi et al., 1997). The function of the cytoplasmic hnRNP A1 has not been well defined. Studies have shown that cytoplasmic and nuclear hnRNP A1 exhibit different RNA-binding profiles. Cytoplasmic hnRNP A1 is capable of high-affinity binding to AU-rich elements that modulate mRNA turnover and translation (Hamilton et al., 1993, 1997; Henics et al., 1994). It has also been shown to promote ribosome binding to mRNAs by a cap-mediated mechanism, and prevent spurious initiation at aberrant translation start sites (Svitkin et al., 1996).\n",
      "\n",
      "MHV belongs to the Coronaviridae family of positive-sense, single-stranded RNA viruses. MHV replication and transcription occur exclusively in the cytoplasm of infected cells via the viral RNA-dependent RNA polymerase (RdRp) (reviewed by Lai and Cavanagh, 1997). Initially, the 5′-most gene 1 of the viral genome is translated into the viral RdRp, which then replicates the viral genomic RNAs into negative-strand RNAs. Subsequently, the negative-strand RNAs are used as templates to transcribe mRNAs, which include a genomic-sized RNA and a nested set of subgenomic mRNA transcripts, all with an identical 5′ non-translated leader sequence of 72–77 nucleotides and 3′ co-terminal polyadenylated ends. The subgenomic mRNA transcription of MHV utilizes a unique discontinuous mechanism in which the leader sequence, often derived from a different molecule, is fused to RNAs at the intergenic (IG) sites (i.e. transcription initiation site) to generate subgenomic mRNAs (Jeong and Makino, 1994; Liao and Lai, 1994; Zhang et al., 1994). The exact mechanism of how these mRNAs are made is still controversial. However, it has been shown that the process of discontinuous RNA transcription is regulated by several viral RNA elements, including the cis- and trans-acting leader RNA (Liao and Lai, 1994; Zhang et al., 1994), IG sequence (Makino et al., 1991) and 3′-end untranslated sequence (Lin et al., 1996). There is considerable biochemical evidence suggesting possible direct or indirect interactions between the various RNA regulatory elements. hnRNP A1 binds MHV negative (–)-strand leader and IG sequences (Furuya and Lai, 1993; Li et al., 1997). Site-directed mutagenesis of the IG sequences demonstrated that the extent of binding of hnRNP A1 to the IG sequences correlated with the efficiency of transcription from the IG site (Zhang and Lai, 1995; Li et al., 1997). Immunostaining of hnRNP A1 showed that hnRNP A1 relocated to the cytoplasm of MHV-infected cells, where viral RNA synthesis occurs (Li et al., 1997). hnRNP A1 also mediates the formation of a ribonucleoprotein complex containing the MHV (–)-strand leader and IG sequences (Zhang et al., 1999). These results suggest that hnRNP A1 may serve as a protein mediator for distant RNA regions to interact with each other.\n",
      "\n",
      "Many cellular proteins, including calreticulin (Singh et al., 1994), polypyrimidine tract-binding protein (PTB) (Hellen et al., 1994; Wu-Baer et al., 1996), La protein (Pardigon and Strauss, 1996), Sam68 (McBride et al., 1996), poly(rC)-binding protein (Parsley et al., 1997) and nucleolin (Waggoner and Sarnow, 1998), have been implicated to be involved in viral RNA transcription or replication. In addition to MHV, hnRNP A1 has also been reported to interact with human cytomegalovirus immediate-early gene 2 protein, which plays an important role in the regulation of virus replication (Wang et al., 1997). Furthermore, a yeast protein related to human core RNA splicing factors, Lsm1p, has been shown to be required for the efficient replication of brome mosaic virus RNA (Diez et al., 2000). Recently, Reddy and colleagues demonstrated an inhibition of HIV replication by dominant-negative mutants of Sam68 (Reddy et al., 1999). However, none of these cellular proteins has been shown experimentally to participate directly in RNA-dependent RNA synthesis.\n",
      "\n",
      "In order to demonstrate the involvement of hnRNP A1 in MHV RNA replication and transcription, we established several DBT cell lines stably expressing either the wild-type (wt) hnRNP A1 or a C-terminus-truncated mutant lacking the M9 sequence and part of the glycine-rich domain. We showed that the mutant hnRNP A1, which was localized predominantly in the cytoplasm, exhibited dominant-negative effects on viral genomic RNA replication and subgenomic mRNA transcription. In contrast, overexpression of the wt hnRNP A1 accelerated the synthesis of all viral RNAs. Our results provide strong evidence that hnRNP A1 is directly or indirectly involved in MHV RNA synthesis in the cytoplasm and that the C-terminal part of the protein is important for its function. This finding thus reveals a novel function for hnRNP A1 in the cytoplasm.\n",
      "\n",
      "To explore a potential role for hnRNP A1 in MHV RNA synthesis, we established murine DBT cell lines stably expressing the Flag-tagged wt hnRNP A1 (DBT-A1) or a mutant hnRNP A1, which has a 75 amino acid deletion from the C-terminus (DBT-A1ΔC) (Figure 1A). This mutant lacks part of the glycine-rich domain and the M9 sequence responsible for shuttling hnRNP A1 between the nucleus and the cytoplasm. Immunoblot of the whole-cell lysates with an anti-Flag antibody detected a 34 kDa protein in DBT-A1 cells and a 27 kDa protein in three independent clones of DBT-A1ΔC cells (Figure 1B), whereas no protein was cross-reactive to the anti-Flag antibody in the control cell line stably transfected with the pcDNA3.1 vector (DBT-VEC). The amounts of the Flag-tagged wt and truncated hnRNP A1 were comparable in these cell lines. A chicken polyclonal antibody against hnRNP A1 detected two endogenous hnRNP A1 isoforms or hnRNP A1-related proteins in the whole-cell lysates of all of the cell lines. The bottom band (34 kDa) overlaps the Flag-tagged wt hnRNP A1 in DBT-A1 cells. There was only a slight increase in the overall amount of hnRNP A1 in DBT-A1 cells as compared with DBT-VEC cells, indicating that the exogenous hnRNP A1 constituted a small fraction of the total hnRNP A1 in the cells. In DBT-A1ΔC cells, an additional band of smaller size (27 kDa) corresponding to the mutant hnRNP A1 was detected. The overall expression levels of the exogenous hnRNP A1 and hnRNP A1ΔC were ∼3-fold lower than that of the endogenous hnRNP A1 in whole-cell lysates (Figure 1B). Similar to the endogenous hnRNP A1 protein (Piñol-Roma and Dreyfuss, 1992), the Flag-tagged wt hnRNP A1 was localized almost exclusively in the nucleus (Figure 1C). The mutant hnRNP A1, however, was localized predominantly in the cytoplasm (Figure 1C), consistent with the previous finding that the M9 nuclear localization signal is necessary to localize hnRNP A1 to the nucleus (Siomi and Dreyfuss, 1995; Weighardt et al., 1995). Thus, hnRNP A1ΔC was much more abundant than the endogenous hnRNP A1 in the cytoplasm. The expression levels of the wt or mutant hnRNP A1 varied among individual cells based on immunofluorescent staining (Figure 1C). The growth rate (Figure 1D) and cell morphology (data not shown) were similar among the different cell lines.\n",
      "\n",
      "We first assessed the effects of hnRNP A1 overexpression on the morphological changes induced by MHV-A59 infection using several different clones of DBT cell lines. Virus infection was performed at a multiplicity of infection (m.o.i.) of 0.5 to detect the subtle morphological differences among the different cell lines. Syncytia appeared at ∼7 h post-infection (p.i.) in DBT-VEC cells and ∼1 h earlier in DBT-A1 cells. At both 8 and 14 h p.i., syncytia were significantly larger and more spread out in DBT-A1 cells than those in DBT-VEC cells (Figure 2A). Similar differences were observed with two additional clones of DBT-A1 cells (data not shown). In contrast, no syncytium was observed in three different clones of DBT-A1ΔC cells, even at 14 h p.i. At 24 h p.i., almost all DBT-A1 cells detached from the plate, but ∼10–20% of DBT-VEC cells still remained on the plate (data not shown). Remarkably, there was no sign of syncytium formation in DBT-A1ΔC cells until 24 h after virus infection, when the overall morphology of the cells was similar to that of DBT-VEC cells at 7 h p.i. (data not shown). All of the DBT-A1ΔC cells were eventually killed at ∼48 h p.i., suggesting that the inhibition of viral replication was not a result of the disruption of the MHV receptor. Correspondingly, virus production from these cell lines was significantly different. Between 6 and 14 h p.i., virus production from DBT-A1ΔC cells was ∼100- to 1000-fold less than that from DBT-VEC and DBT-A1 cells (Figure 2B). DBT-A1 cells produced twice as many viruses as those from DBT-VEC cells during that time period.\n",
      "\n",
      "MHV RNA synthesis occurs exclusively in the cytoplasm of infected cells. In order for hnRNP A1 to participate directly in viral transcription, it has to be recruited to the site of RNA synthesis. Although hnRNP A1 shuttles between the nucleus and the cytoplasm in normal cells (Piñol-Roma and Dreyfuss, 1992), the level of cytoplasmic hnRNP A1 is very low. We have demonstrated previously that hnRNP A1 relocates from the nucleus to the cytoplasm of MHV-infected cells (Li et al., 1997). To determine whether the overexpressed hnRNP A1 may participate in MHV RNA synthesis, we performed immunostaining experiments using an anti-Flag antibody to localize Flag-tagged hnRNP A1. In DBT-A1 cells, a significant increase in the cytoplasmic level of hnRNP A1 and a corresponding decrease of nuclear hnRNP A1 were observed in virus-infected cell syncytia at 7 h p.i. (Figure 3B); these cells express the MHV nucleocapsid (N) protein in the cytoplasm (Figure 3A). By comparison, in the uninfected cells, which did not have N protein staining, hnRNP A1 was predominantly localized to the nucleus (arrow in Figure 3B). In DBT-A1ΔC cells, very few cells were stained positive for the MHV N protein at 7 h p.i. (Figure 3C). Significantly, the viral N protein was detected only in the cells that were stained weakly or not at all for Flag-hnRNP A1 (Figure 3D), suggesting that the expression of a high level of hnRNP A1ΔC interfered with viral replication.\n",
      "\n",
      "We further investigated the effects of the wt and mutant hnRNP A1 on the production of MHV structural and non-structural proteins. Cytoplasmic protein was extracted from infected cell lines at different time points after infection for immunoblot analysis to detect an open reading frame (ORF) 1a product, p22 (Lu et al., 1998) and the N protein. p22 expression in DBT-VEC cells was clearly detected at 6 h p.i. and peaked at ∼16 h p.i. (Figure 4A). In DBT-A1 cells, p22 appeared at 5 h p.i. and peaked at ∼8 h p.i. In DBT-A1ΔC cells, no p22 protein was detected until 16 h p.i. Similar patterns of differences were observed for the N protein in these three cell lines. Actin levels in different cell lines remained relatively constant throughout the infection, except that, in DBT-A1 cells, actin was not detected at 16 and 24 h p.i. due to the loss of the dead cells (Figure 4A). These results clearly demonstrated that overexpression of the wt hnRNP A1 accelerated viral protein production, whereas expression of the mutant hnRNP A1 delayed it. We also performed immunofluorescent staining of the N protein at 7 h p.i. to further confirm the western blot results. As represented by images shown in Figure 4B, there were more DBT-A1 cells stained positive for the N protein than DBT-VEC cells. Very few cells were found to express the N protein in DBT-A1ΔC cells. The p22 and N proteins appeared as doublets in some of the lanes of Figure 4A, but the results varied from experiment to experiment. The N protein is known to be phosphorylated (Stohlman and Lai, 1979). Whether p22 is post-translationally modified is not known.\n",
      "\n",
      "We next examined the effects of the wt and mutant hnRNP A1 on MHV RNA synthesis. MHV-infected cell lines were labeled for 1 h with [3H]uridine in the presence of 5 µg/ml actinomycin D at different time points after infection. [3H]uridine incorporation in DBT-VEC cells increased gradually from 4 h p.i. and peaked at ∼16 h p.i. (Figure 5A). DBT-A1 cells showed a significantly higher level of [3H]uridine incorporation, which peaked at ∼8 h p.i. DBT-A1ΔC cells did not show any detectable level of incorporation of the radioactivity. These results suggest that hnRNP A1 regulates MHV RNA synthesis. We further assessed the production of genomic and subgenomic MHV RNAs in these cell lines by northern blot analysis. The genomic and the six subgenomic RNA species were detected at 8 h p.i. in both DBT-VEC and DBT-A1 cells; there were significantly higher steady-state levels of all of the RNA species in DBT-A1 cells (Figure 5B). In contrast, no viral RNA was detected in DBT-A1ΔC cells at that time point. At 16 h p.i., MHV RNA levels in DBT-VEC and DBT-A1 cells decreased generally because of the loss of the dead cells, while the smaller subgenomic RNAs became detectable in DBT-A1ΔC cells. By 24 h p.i., most viral RNA species became detectable in DBT-A1ΔC cells (Figure 5B, lane 10), while most of the DBT-A1 cells were dead (lane 9). These results confirmed that the synthesis of all of the viral RNA species is accelerated by overexpression of the wt hnRNP A1 and delayed by a dominant-negative mutant of hnRNP A1.\n",
      "\n",
      "In this analysis, we also detected an additional RNA species (arrow in Figure 5B), which was determined to be a defective-interfering (DI) RNA by northern blot analysis using a probe representing the 5′-untranslated region (without the leader), which is present only in genomic and DI RNAs (data not shown). Interestingly, this DI RNA was inhibited to a greater extent than other RNA species in DBT-A1ΔC cells. This result suggests that the replication of DI RNAs is more sensitive to the dominant-negative inhibition by cytoplasmic hnRNP A1.\n",
      "\n",
      "To demonstrate further that MHV RNA transcription machinery is defective in cells expressing the mutant hnRNP A1, we studied transcription of an MHV DI RNA, 25CAT, which contains a transcription promoter (derived from the IG sequence for mRNA 7, IG7) and a chloramphenicol acetyltransferase (CAT) reporter gene (Liao and Lai, 1994). CAT activity can be expressed from this DI RNA only if a subgenomic mRNA containing CAT sequences is produced (Liao and Lai, 1994). The 25CAT RNA was transfected into MHV-A59-infected cells 1 h after infection. At 8 h p.i., CAT activity in DBT-A1 cells was significantly higher than that in DBT-VEC cells (Figure 6A). On the other hand, CAT activity was very low in DBT-A1ΔC cells. At 24 h p.i., CAT activity in DBT-A1 cells became slightly lower than that in DBT-VEC cells because of the loss of the dead DBT-A1 cells. The CAT activity in DBT-A1ΔC was still significantly lower than that in DBT-VEC or DBT-A1 cells. These results established that mRNA transcription from the DI RNA was also inhibited by hnRNP A1ΔC.\n",
      "\n",
      "The results shown above (Figure 5B) also suggest that DI RNA replication is more sensitive to the inhibitory effects of the hnRNP A1 mutant. To confirm this result, we further studied replication of another DI RNA during serial virus passages. DBT cells were infected with MHV-A59 and transfected with DIssE RNA derived from JHM virus (Makino and Lai, 1989); the virus released (P0) was passaged twice in DBT cells to generate P1 and P2 viruses. DBT cells were infected with these viruses, and cytoplasmic RNA was extracted for northern blot analysis using glyoxalated RNA for a better resolution of smaller RNAs. For DBT-A1ΔC cells, RNA was extracted at 36 h p.i. since viral RNA synthesis was delayed in this cell line. Cells infected with P0 viruses did not yield detectable amounts of DIssE, but contained the naturally occurring A59 DI RNA, whose replication was inhibited more strongly than the synthesis of MHV genomic and subgenomic RNAs in DBT-A1ΔC cells (Figures 5B, lanes 8–10 and 6B, lanes 1–3). However, this A59 DI RNA was not detectable in cells infected with P1 and P2 viruses (Figure 6B, lanes 4–9). In contrast, DIssE appeared in cells infected with P1 viruses and further increased in cells infected with P2 viruses, indicating that the replication of the smaller DIssE may have an inhibitory effect on the replication of the larger A59 DI RNA (Jeong and Makino, 1992). Similar to the A59 DI RNA, the replication of DIssE RNA was much more strongly inhibited than that of MHV genomic and subgenomic RNAs in DBT-A1ΔC cells (Figure 6B, lanes 6 and 9). Our results thus suggest that MHV DI RNA replication is more dependent on the function of cytoplasmic hnRNP A1.\n",
      "\n",
      "To understand the underlying mechanism of the inhibition of MHV RNA transcription by the C-terminal-deletion mutant of hnRNP A1, we first examined the RNA- and protein-binding properties of this mutant protein. Electrophoretic mobility shift assay demonstrated that hnRNP A1ΔC retained the ability to bind the MHV (–)-strand leader RNA and to form multimers with itself, similar to the wt hnRNP A1 (data not shown); this is consistent with the fact that both of its RBDs are intact (Figure 1A). Furthermore, UV-crosslinking experiments showed that increasing amounts of purified glutathione S-transferase (GST)–hnRNP A1ΔC efficiently competed with the endogenous hnRNP A1 for the binding of the MHV (–)-strand leader RNA (Figure 7A), indicating that the binding of hnRNP A1ΔC to RNA was not affected. These results suggest that the RNA-binding properties of hnRNP A1ΔC were intact.\n",
      "\n",
      "We next examined the protein-binding properties of hnRNP A1ΔC. Since hnRNP A1 has been shown to interact with the N protein, which also participates in MHV RNA synthesis (Compton et al., 1987; Wang and Zhang, 1999), we first determined whether the dominant-negative mutant of hnRNP A1 retained the ability to interact with the N protein in vitro. GST pull-down assay using various truncation mutants of hnRNP A1 showed that the N protein bound the N-terminal domain (aa 1–163) of hnRNP A1 (Figure 7B); thus, the binding of hnRNP A1ΔC [equivalent to hnRNP A1(1–245)] to the N protein was not affected. We next examined the in vivo interaction of the wt and mutant hnRNP A1 with an MHV ORF 1a product, p22, which has been shown to co-localize with the de novo synthesized viral RNA (S.T.Shi and M.M.C.Lai, unpublished results) and associate with the viral replicase complex (Gibson Bost et al., 2000). Cyto plasmic extracts from MHV-A59-infected cells were immunoprecipitated with anti-Flag antibody-conjugated beads, followed by western blotting with a rabbit polyclonal antibody against p22. At 8 h p.i., p22 was co-precipitated with the Flag-tagged hnRNP A1 from DBT-A1 cells, whereas no precipitation of p22 was observed in DBT-VEC cells (Figure 7C). For DBT- A1ΔC cells, co-immunoprecipitation was performed at 24 h p.i., when abundant MHV proteins were synthesized. p22 was shown to co-precipitate with hnRNP A1ΔC, indicating that hnRNP A1ΔC still formed a complex with the viral polymerase gene product. These results suggest that the ability of hnRNP A1ΔC to interact with the N and polymerase proteins was not altered.\n",
      "\n",
      "We next investigated whether the mutant hnRNP A1 is deficient in the interaction with any other cellular proteins in this RNA–protein complex. We labeled proteins in MHV-infected cells or mock-infected cells at different time points after infection and immunoprecipitated with the anti-Flag antibody. Significantly, a cellular protein of ∼250 kDa was shown to be associated only with the wt hnRNP A1, but not the mutant hnRNP A1 (Figure 7D), suggesting that hnRNP A1 binds to this protein through its C-terminal domain. We propose that this cellular protein is another important component of the MHV RNA transcription/replication complex.\n",
      "\n",
      "There is an accumulating body of evidence signifying the importance of cellular factors in RNA synthesis of RNA viruses (reviewed by Lai, 1998). Previous studies have shown that hnRNP A1 binds to the cis-acting sequences of MHV template RNA and that this interaction correlates with the transcription efficiency of viral RNA in vivo (Zhang and Lai, 1995; Li et al., 1997). In addition, hnRNP A1 is also implicated in viral RNA replication by the recent finding that hnRNP A1 interacts with the 3′-ends of both positive- and negative-strand MHV RNA (P.Huang and M.M.C.Lai, unpublished results). However, the functional importance of hnRNP A1 in viral RNA synthesis has so far not been directly demonstrated. In the present study, we established that MHV RNA transcription and replication were enhanced by overexpression of the wt hnRNP A1 protein, but inhibited by expression of a dominant-negative hnRNP A1 mutant in DBT cell lines. Our results suggest that hnRNP A1 is a host protein involved in the formation of a cytoplasmic transcription/replication complex for viral RNA synthesis. This represents a novel function for hnRNP A1 in the cytoplasm.\n",
      "\n",
      "Our results indicate that the inhibitory effects on MHV replication exhibited by the dominant-negative mutant of hnRNP A1 were relatively more prominent than the enhancement effects by overexpression of the wt hnRNP A1. This is consistent with the subcellular localization patterns of the wt and mutant hnRNP A1 proteins. The overexpressed exogenous wt hnRNP A1 in DBT-A1 cells was predominantly localized in the nucleus, similar to the endogenous hnRNP A1 (Figure 1C). The C-terminal-deletion mutant, however, was localized mainly in the cytoplasm. Thus, the level of hnRNP A1ΔC was much higher than the endogenous wt hnRNP A1 in the cytoplasm of DBT-A1ΔC cells, where MHV replication occurs. This result explains why hnRNP A1ΔC could have a strong dominant-negative inhibitory effect, despite the fact that it was expressed at a lower level than the endogenous hnRNP A1 (Figure 1B).\n",
      "\n",
      "The effects of the expression of the wt and mutant hnRNP A1 on virus production (Figure 2B), viral protein synthesis (Figure 4A) and viral RNA synthesis (Figure 5A) correlated with each other. Furthermore, hnRNP A1ΔC caused not only a global inhibition of genomic RNA replication and subgenomic mRNA transcription, but also a preferential inhibition of at least two DI RNA species. These results suggest that the inhibition of MHV replication by the hnRNP A1 mutant was most likely a direct effect on viral RNA synthesis rather than an indirect effect on other aspects of cellular or viral functions. Since hnRNP A1 binds directly to the cis-acting MHV RNA sequences critical for MHV RNA transcription (Li et al., 1997) and replication (P.Huang and M.M.C.Lai, unpublished results), it is most likely that hnRNP A1 may participate in the formation of the transcription/replication complex. Indeed, our data show that hnRNP A1 interacts directly or indirectly with the N protein and a gene 1 product, p22, both of which are probably associated with the viral transcription/replication complex (Compton et al., 1987; Wang and Zhang, 1999; Gibson Bost et al., 2000). hnRNP A1 may participate directly in viral RNA synthesis in a similar role to that of transcription factors in DNA-dependent RNA synthesis, e.g. by maintaining favorable RNA conformation for RNA synthesis. Alternatively, hnRNP A1 may modulate MHV RNA transcription or replication by participating in the processing, transport and controlling the stability of viral RNAs. It has been reported that RNA processing of retroviruses, human T-cell leukemia virus type 2 (Black et al., 1995) and HIV-1 (Black et al., 1996), is altered by the binding of hnRNP A1 to the viral RNA regulatory elements. It is also possible that hnRNP A1 may participate in MHV RNA synthesis indirectly by affecting the production of other host cell proteins, which may, in turn, regulate MHV RNA synthesis. Since hnRNP A1 is a dose-dependent alternative splicing factor (Caceres et al., 1994), even small changes in the intracellular level of hnRNP A1 can alter the splicing of other cellular proteins. Regardless of the mechanism, our study established the importance of cellular factors in viral RNA-dependent RNA synthesis.\n",
      "\n",
      "The transcription from 25CAT RNA was strongly inhibited by the dominant-negative mutant of hnRNP A1, as shown by CAT assays (Figure 6A). In addition, the replication of the naturally occurring A59 DI RNA and the artificial DIssE RNA was completely abolished (Figure 6B). Surprisingly, the replication of MHV DI RNAs suffered a stronger inhibition by the dominant-negative mutant of hnRNP A1 than the synthesis of MHV genomic and subgenomic RNAs, suggesting that DI RNA replication may be more dependent on hnRNP A1. Although DI RNAs contain all of the cis-acting replication signals that are essential for their replication in normal cells (Kim and Makino, 1995), the small size of DI RNA may cause it to require more hnRNP A1 to maintain a critical RNA structure. It has been shown that different DI RNAs require different cis-acting signals for RNA replication (Kim and Makino, 1995).\n",
      "\n",
      "Our results demonstrate that the C-terminal domain of hnRNP A1, including the M9 sequence and the glycine-rich region, is important for MHV RNA transcription and replication, but the mechanism of the dominant-negative effects of hnRNP A1ΔC is still not clear. hnRNP A1ΔC retains the RNA-binding and self-association ability and is capable of binding the viral proteins N and p22, which are associated with the transcription/replication complex. It is possible that hnRNP A1ΔC is not productive due to its inability to interact with other viral or cellular proteins that are involved in MHV RNA synthesis. We have found a protein of ∼250 kDa that binds only the wt, but not the mutant hnRNP A1 (Figure 7D). It remains to be shown whether this cellular protein is involved in MHV RNA synthesis.\n",
      "\n",
      "In our preliminary study, we found that MHV could replicate in an erythroleukemia cell line, CB3, which was reported to lack detectable hnRNP A1 expression as a result of a retrovirus integration in one allele and loss of the other allele (Ben-David et al., 1992). Since hnRNP A1 protein is involved in a variety of important cellular functions, including RNA splicing, transport, turnover and translation, it is conceivable that other redundant gene products may substitute for the function of hnRNP A1 in CB3 cells. Indeed, UV-crosslinking assays using CB3 cell extracts detected two proteins comparable to hnRNP A1 in size that could interact with the MHV negative-strand leader RNA (data not shown). These proteins may represent hnRNP A1-related proteins, since many of such hnRNPs exist in the cells (Buvoli et al., 1988; Burd et al., 1989). Therefore, multiple cellular proteins may have the capacity to be involved in MHV RNA synthesis.\n",
      "\n",
      "Based on previous findings (Kim and Makino, 1995; Zhang and Lai, 1995; Li et al., 1997) and the results from this study, we propose a model for the regulation of transcription/replication of MHV RNA by hnRNP A1. We hypothesize that hnRNP A1 is one of the components of the MHV RNA transcription or replication complex, and the crosstalk between hnRNP A1 and another viral or cellular RNA-binding protein (designated X in Figure 8) is essential for MHV replication and transcription. The X protein binds to the C-terminus of hnRNP A1 and cooperates with hnRNP A1 to recruit more proteins to form the transcription or replication complex. The C-terminal-deletion mutant of hnRNP A1 loses the ability to interact with the X protein and to bring it into the initiation complex, resulting in an inhibition of MHV RNA transcription and replication. The residual replication and transcription activities of MHV RNA in the absence of functional hnRNP A1 may be due to a limited affinity of the X protein to a cis-acting signal that is only present in MHV genomic RNA (site B). On the other hand, DI RNAs may lack this cis-acting signal. When the crosstalk between the X protein and hnRNP A1 is abolished by the dominant-negative mutant of hnRNP A1, the X protein can no longer participate in the formation of the initiation complex, resulting in a complete loss of DI RNA replication.\n",
      "\n",
      "In summary, our data provide direct experimental evidence that hnRNP A1 is involved directly or indirectly in MHV RNA synthesis, probably by participating in the formation of an RNA transcription/replication complex. This finding reveals a novel cytoplasmic function for hnRNP A1.\n",
      "\n",
      "DBT cells, a mouse astrocytoma cell line (Hirano et al., 1974), were cultured in Eagle’s minimal essential medium (MEM) supplemented with 7% newborn calf serum (NCS) and 10% tryptone phosphate broth. MHV strain A59 (Robb and Bond, 1979) was propagated in DBT cells and maintained in virus growth medium containing 1% NCS.\n",
      "\n",
      "The cDNA of the murine hnRNP A1 gene was amplified by RT–PCR using RNA extracted from DBT cells and a set of primers representing the 5′- and 3′-ends of hnRNP A1-coding region, and cloned into pcDNA3.1 (Invitrogen, Carlsbad, CA). The 8 amino acid Flag tag was attached to the N-terminus of hnRNP A1 by including the Flag tag in the forward PCR primer. The truncated hnRNP A1ΔC was similarly constructed using a PCR-amplified fragment that represents hnRNP A1 (aa 1–245).\n",
      "\n",
      "For the establishment of permanent DBT cell lines, pcDNA3.1 alone or the plasmid containing the Flag-tagged hnRNP A1 or hnRNP A1ΔC was transfected into 60% confluent DBT cells using DOTAP according to the manufacturer’s instructions (Boehringer Mannheim, Indianapolis, IN). After 4 h, the transfected cells were selected in DBT cell medium containing 0.5 mg/ml Geneticin (G418) (Omega Scientific, Tarzana, CA) for 10 days. Single colonies were then collected and cultured individually for 10 additional days before screening for the expression of Flag-tagged proteins.\n",
      "\n",
      "The polyclonal rabbit antibody against p22 was a gift from Dr Susan C.Baker at Loyola University, IL. The chicken polyclonal antibody against hnRNP A1 was produced by Aves Labs, Inc. (Tigard, OR) by immunizing chickens with the purified mouse hnRNP A1 protein expressed in bacteria. The polyclonal anti-Flag antibody was purchased from Affinity Bioreagents (Golden, CO). The goat polyclonal antibody against actin was obtained from Santa Cruz Biotechnology (Santa Cruz, CA). The mouse monoclonal antibody against the N protein has been described previously (Fleming et al., 1983).\n",
      "\n",
      "Equal numbers (1 × 105) of DBT-VEC, DBT-A1 and DBT-A1ΔC cells were plated in 10-cm culture plates and maintained in culture medium for 4 days. Cells were trypsinized, stained with Trypan Blue (Gibco-BRL, Grand Island, NY) and counted at 24-h intervals with a hemacytometer (Hausser Scientific, Horsham, PA).\n",
      "\n",
      "DBT cells in 10-cm plates were infected with MHV-A59 at an m.o.i. of 2. After 1 h for virus adsorption, the cells were washed three times with serum-free MEM, which was then replaced with virus growth medium containing 1% serum. At 1, 6, 8, 10, 14 and 24 h p.i., 1 ml of medium was taken from each plate for plaque assay.\n",
      "\n",
      "Cells plated in 6-well plates were infected with MHV-A59 at an m.o.i. of 2. At 1 h p.i., 5 µg/ml actinomycin D was added to the virus growth medium to inhibit cellular RNA synthesis. To label newly synthesized MHV RNA, 100 µCi/ml of [3H]uridine (NEN, Boston, MA) were added to the medium at hourly intervals. After 1 h of labeling, the cells were washed twice in ice-cold PBS and scraped off the plates in 1 ml of PBS. The cells were then collected by centrifugation and incubated in 200 µl of NTE buffer (150 mM NaCl, 50 mM Tris pH 7.5, 1 mM EDTA) containing 0.5% NP-40, 0.5 mM dithiothreitol (DTT) and 400 U/ml of RNasin on ice for 15 min. After centrifugation, 5 µl of the cytoplasmic extract were spotted on a piece of 3 mm paper and incubated with 5% trichloroacetic acid (TCA). The radioactivity remaining on the 3 mm paper was measured in a scintillation counter.\n",
      "\n",
      "DBT cells were infected with MHV-A59 at an m.o.i. of 2. At 8, 16 and 24 h p.i., cytoplasmic extract was prepared as described above and subjected to phenol/chloroform extraction and ethanol precipitation to purify cytoplasmic RNA. Approximately 10 µg of RNA were separated by electrophoresis on a 1.2% formaldehyde-containing agarose gel and transferred to a nitrocellulose membrane. For a better resolution of the DIssE RNA (Figure 6B), RNA was glyoxalated before being electrophoresed on a 1% agarose gel. An in vitro transcribed, 32P-labeled negative-strand mRNA 7 of MHV-JHM was used as a probe to detect MHV genomic and subgenomic RNAs. For detecting DI RNA species, RNA blots were probed with an RNA representing a sequence complementary to the sequence of the 5′-untranslated region of MHV-JHM RNA, but excluding the leader sequence.\n",
      "\n",
      "DBT cells in 6-well plates were infected with MHV-A59 and cytoplasmic extracts were prepared as described previously (Li et al., 1997) at various time points p.i. The extracts were electrophoresed on a 12% polyacrylamide gel and transferred to a nitrocellulose membrane for western blotting.\n",
      "\n",
      "Cells were washed in phosphate-buffered saline (PBS) and fixed in 4% formaldehyde for 20 min at room temperature, followed by 5 min in –20°C acetone. Primary antibodies were diluted in 5% bovine serum albumin and incubated with cells for 1 h at room temperature. After three washes in PBS, fluorescein-conjugated secondary antibodies were added to cells at 1:200 dilution for 1 h at room temperature. FITC- or TRITC-conjugated secondary antibodies were used to generate green or red fluorescence. Cells were then washed in PBS and mounted in Vectashield (Vector Laboratories, Burlingame, CA).\n",
      "\n",
      "UV-crosslinking assay was performed as described previously (Huang and Lai, 1999). In brief, DBT cell extracts (30 µg protein), 200 µg/ml tRNA and 104 c.p.m. of an in vitro transcribed, 32P-labeled negative-strand MHV 5′-end RNA (182 bp) were incubated for 10 min at 30°C. Increasing amounts of purified GST (0, 0.5, 1.5 and 5 ng) or recombinant GST–hnRNP A1 fusion protein (0, 1, 3 and 10 ng) were included in the reaction to compete with the endogenous hnRNP A1 for binding. The reaction mixture was placed on ice and UV-irradiated in a UV Stratalinker 2400 (Stratagene) for 10 min, followed by digestion with 400 µg/ml RNase A for 15 min at 37°C. The protein–RNA complexes were then separated on a 10% SDS–polyacrylamide gel and visualized by autoradiography.\n",
      "\n",
      "GST pull-down was performed as described previously (Tu et al., 1999). In brief, GST–hnRNP A1 fusion proteins on glutathione beads (Pierce, Rockford, IL) were incubated with the in vitro translated, 35S-labeled N protein in 0.3 ml of GST-binding buffer containing 0.1% NP-40 for 2 h at 4°C. The beads were washed five times with the GST-binding buffer containing 0.3% NP-40. Proteins bound to beads were eluted by boiling in Laemmli buffer for 5 min and separated on a 10% polyacrylamide gel.\n",
      "\n",
      "DBT cells were infected with MHV-A59 at an m.o.i. of 2. The cells were incubated with methionine-free medium for 30 min before labeling and were labeled in 100 µCi/ml [35S]methionine starting at 1.5, 7 or 24 h p.i. After labeling for 2 h at each time point, the cells were harvested for protein extraction as described previously (Li et al., 1997). The protein extracts were immunoprecipitated with anti-Flag antibody-conjugated beads (Sigma, St Louis, MO) in Tm10 buffer (50 mM Tris–HCl pH 7.9, 0.1 M KCl, 12.5 mM MgCl2, 1 mM EDTA, 10% glycerol, 1 mM DTT, 0.1% NP-40, 1 mM phenylmethylsulfonyl fluoride) at 4°C for 2 h. The immunoprecipitates were washed and separated on a 4–15% gradient SDS–polyacrylamide gel and visualized by autoradiography.\n",
      "\n",
      "Plasmid 25CAT was linearized by XbaI and in vitro transcribed with T7 RNA polymerase to produce the DI RNA (Liao and Lai, 1994). The DI RNA was transfected into MHV-A59-infected DBT cells using DOTAP as described previously (Huang and Lai, 1999). In brief, ∼80% confluent DBT cells were infected by MHV-A59 at an m.o.i. of 10. At 1 h p.i., the cells were transfected with 5 µg of in vitro transcribed DI RNA and incubated at 37°C for the desired lengths of time. To amplify the DI RNA, viruses (P0) were passaged twice in wt DBT cells to generate P1 and P2 viruses.\n",
      "\n",
      "Cells were harvested at 8 or 24 h p.i. and lysed by freezing and thawing for three times. After centrifugation at 12 000 r.p.m. for 10 min, the supernatant was used in a CAT assay as described previously (Lin et al., 1996).\n",
      "\n"
     ]
    }
   ],
   "source": [
    "for i in pmc_art['body_text']:\n",
    "    print(i['text']+'\\n')"
   ]
  },
  {
   "cell_type": "code",
   "execution_count": 68,
   "id": "889a12a6",
   "metadata": {},
   "outputs": [],
   "source": [
    "with open('cuerpo_articulo.txt','a') as file:\n",
    "    for i in pmc_art['body_text']:\n",
    "        file.write(i['text']+'\\n')"
   ]
  },
  {
   "cell_type": "code",
   "execution_count": 69,
   "id": "a87f8cbe",
   "metadata": {},
   "outputs": [
    {
     "data": {
      "text/plain": [
       "'PMC302072'"
      ]
     },
     "execution_count": 69,
     "metadata": {},
     "output_type": "execute_result"
    }
   ],
   "source": [
    "pmc_art['paper_id']"
   ]
  },
  {
   "cell_type": "code",
   "execution_count": 32,
   "id": "c71c927b",
   "metadata": {},
   "outputs": [],
   "source": [
    "pmc_art_ann['id'] = pmc_art['paper_id']"
   ]
  },
  {
   "cell_type": "code",
   "execution_count": 47,
   "id": "5bbffc40",
   "metadata": {},
   "outputs": [],
   "source": [
    "for chunk in pmc_art['body_text']:\n",
    "    # get annotation for chunk\n",
    "    ann = get_annotations(chunk['text'],ontologies)\n",
    "    # store annotation\n",
    "    section = chunk['section'].split(':::')[-1]\n",
    "    if section not in pmc_art_ann['annotations'].keys():\n",
    "        pmc_art_ann['annotations'][section] = ann\n",
    "    else:\n",
    "        pmc_art_ann['annotations'][section].append(ann)\n",
    "    # count annotations\n",
    "    ann_count=count_annotations(ann)\n",
    "    #store annotation count\n",
    "    pmc_art_ann['annotations_count'].append(ann_count)        "
   ]
  },
  {
   "cell_type": "code",
   "execution_count": 59,
   "id": "270e31aa",
   "metadata": {},
   "outputs": [],
   "source": [
    "conteo = pmc_art_ann['annotations_count']"
   ]
  },
  {
   "cell_type": "code",
   "execution_count": 61,
   "id": "6a561027",
   "metadata": {},
   "outputs": [],
   "source": [
    "with open('conteo_anotaciones.json', 'w') as json_handler:\n",
    "    json_handler.write(json.dumps(conteo))"
   ]
  },
  {
   "cell_type": "code",
   "execution_count": 45,
   "id": "807c3a90",
   "metadata": {},
   "outputs": [
    {
     "ename": "RuntimeError",
     "evalue": "dictionary changed size during iteration",
     "output_type": "error",
     "traceback": [
      "\u001b[0;31m---------------------------------------------------------------------------\u001b[0m",
      "\u001b[0;31mRuntimeError\u001b[0m                              Traceback (most recent call last)",
      "\u001b[0;32m/tmp/ipykernel_8296/3183986512.py\u001b[0m in \u001b[0;36m<module>\u001b[0;34m\u001b[0m\n\u001b[0;32m----> 1\u001b[0;31m \u001b[0;32mfor\u001b[0m \u001b[0mk\u001b[0m \u001b[0;32min\u001b[0m \u001b[0mpmc_art_ann\u001b[0m\u001b[0;34m[\u001b[0m\u001b[0;34m'annotations'\u001b[0m\u001b[0;34m]\u001b[0m\u001b[0;34m.\u001b[0m\u001b[0mkeys\u001b[0m\u001b[0;34m(\u001b[0m\u001b[0;34m)\u001b[0m\u001b[0;34m:\u001b[0m\u001b[0;34m\u001b[0m\u001b[0;34m\u001b[0m\u001b[0m\n\u001b[0m\u001b[1;32m      2\u001b[0m     \u001b[0mpmc_art_ann\u001b[0m\u001b[0;34m[\u001b[0m\u001b[0;34m'annotations'\u001b[0m\u001b[0;34m]\u001b[0m\u001b[0;34m[\u001b[0m\u001b[0mk\u001b[0m\u001b[0;34m.\u001b[0m\u001b[0msplit\u001b[0m\u001b[0;34m(\u001b[0m\u001b[0;34m':'\u001b[0m\u001b[0;34m)\u001b[0m\u001b[0;34m[\u001b[0m\u001b[0;34m-\u001b[0m\u001b[0;36m1\u001b[0m\u001b[0;34m]\u001b[0m\u001b[0;34m]\u001b[0m \u001b[0;34m=\u001b[0m \u001b[0mpmc_art_ann\u001b[0m\u001b[0;34m[\u001b[0m\u001b[0;34m'annotations'\u001b[0m\u001b[0;34m]\u001b[0m\u001b[0;34m[\u001b[0m\u001b[0mk\u001b[0m\u001b[0;34m]\u001b[0m\u001b[0;34m\u001b[0m\u001b[0;34m\u001b[0m\u001b[0m\n\u001b[1;32m      3\u001b[0m     \u001b[0;32mdel\u001b[0m \u001b[0mpmc_art_ann\u001b[0m\u001b[0;34m[\u001b[0m\u001b[0;34m'annotations'\u001b[0m\u001b[0;34m]\u001b[0m\u001b[0;34m[\u001b[0m\u001b[0mk\u001b[0m\u001b[0;34m]\u001b[0m\u001b[0;34m\u001b[0m\u001b[0;34m\u001b[0m\u001b[0m\n",
      "\u001b[0;31mRuntimeError\u001b[0m: dictionary changed size during iteration"
     ]
    }
   ],
   "source": [
    "for k in pmc_art_ann['annotations'].keys():\n",
    "    pmc_art_ann['annotations'][k.split(':')[-1]] = pmc_art_ann['annotations'][k]\n",
    "    del pmc_art_ann['annotations'][k]"
   ]
  },
  {
   "cell_type": "code",
   "execution_count": 43,
   "id": "fb714606",
   "metadata": {},
   "outputs": [
    {
     "name": "stdout",
     "output_type": "stream",
     "text": [
      "Introduction\n",
      "Introduction\n",
      "Introduction\n",
      "Introduction\n",
      " Results\n",
      " Results\n",
      " Results\n",
      " Results\n",
      " Results\n",
      " Results\n",
      " Results\n",
      " Results\n",
      " Results\n",
      " Results\n",
      " Results\n",
      "Discussion\n",
      "Discussion\n",
      "Discussion\n",
      "Discussion\n",
      "Discussion\n",
      "Discussion\n",
      "Discussion\n",
      "Discussion\n",
      " Materials and methods\n",
      " Materials and methods\n",
      " Materials and methods\n",
      " Materials and methods\n",
      " Materials and methods\n",
      " Materials and methods\n",
      " Materials and methods\n",
      " Materials and methods\n",
      " Materials and methods\n",
      " Materials and methods\n",
      " Materials and methods\n",
      " Materials and methods\n",
      " Materials and methods\n",
      " Materials and methods\n",
      " Materials and methods\n"
     ]
    }
   ],
   "source": [
    "for i in pmc_art['body_text']:\n",
    "    print(k['section'].split(':')[-1])"
   ]
  },
  {
   "cell_type": "code",
   "execution_count": null,
   "id": "beeea0d1",
   "metadata": {},
   "outputs": [],
   "source": [
    "# metadata PMC\n",
    "for file in path_files:\n",
    "    if 'PMC' in file:\n",
    "        print(load_json_record(path_files[0]).keys())"
   ]
  },
  {
   "cell_type": "code",
   "execution_count": null,
   "id": "6909ef29",
   "metadata": {},
   "outputs": [],
   "source": [
    "# falto nombre clase."
   ]
  },
  {
   "cell_type": "code",
   "execution_count": null,
   "id": "95883279",
   "metadata": {},
   "outputs": [],
   "source": [
    "# make class for handle general db\n",
    "# METHODS\n",
    "# create db\n",
    "# store things in db\n",
    "# load db in memory\n",
    "# write db in disk"
   ]
  },
  {
   "cell_type": "code",
   "execution_count": null,
   "id": "c85a6d09",
   "metadata": {},
   "outputs": [],
   "source": [
    "# make class for handle bioportal api service\n",
    "# METHODS\n",
    "# handle web servise\n",
    "# handle virtual machine service\n",
    "# call annotator"
   ]
  },
  {
   "cell_type": "code",
   "execution_count": null,
   "id": "cf65342b",
   "metadata": {},
   "outputs": [],
   "source": [
    "# proccess json\n",
    "# read file\n",
    "# map keys\n",
    "# iterate over keys\n",
    "# call api with section content\n",
    "# store annotations for section\n",
    "# count annotations for each annotated section\n",
    "# store count\n",
    "# store annotations and count annotation for file in db"
   ]
  },
  {
   "cell_type": "code",
   "execution_count": null,
   "id": "e0d7d611",
   "metadata": {},
   "outputs": [],
   "source": [
    "# json article annotations\n",
    "\n",
    "{\n",
    "    'id':str(id_db),\n",
    "    'annotations':{\n",
    "        'section_x':[],\n",
    "        'section_y':[],\n",
    "        ...\n",
    "        'section_z':[]\n",
    "    }\n",
    "    count_annotations:[\n",
    "        \n",
    "    ]\n",
    "}"
   ]
  },
  {
   "cell_type": "code",
   "execution_count": 3,
   "id": "ac5dc360",
   "metadata": {},
   "outputs": [],
   "source": [
    "d = {'c':1,'a':2,'b':3}"
   ]
  },
  {
   "cell_type": "code",
   "execution_count": 6,
   "id": "3e309594",
   "metadata": {},
   "outputs": [
    {
     "data": {
      "text/plain": [
       "['c', 'a', 'b']"
      ]
     },
     "execution_count": 6,
     "metadata": {},
     "output_type": "execute_result"
    }
   ],
   "source": [
    "list(d.keys())"
   ]
  },
  {
   "cell_type": "code",
   "execution_count": null,
   "id": "aef54063",
   "metadata": {},
   "outputs": [],
   "source": [
    "# data management plan\n",
    "# -> intelectual property right management\n",
    "#    -> identification of data\n",
    "#    -> funder requeriments\n",
    "#    -> authority\n",
    "#    -> composite\n",
    "#    -> sharing requeriments\n",
    "#        ->permisions\n",
    "#        conditions\n",
    "#        restrictions\n",
    "#        select and grouping\n",
    "#    -> identifiying license more suitable\n",
    "#    -> depositing data in data verse\n",
    "#    -> setting up permissions in dataverse\n",
    "#       -> diligence metadata fields related to license\n",
    "#       ->"
   ]
  }
 ],
 "metadata": {
  "kernelspec": {
   "display_name": "Python 3 (ipykernel)",
   "language": "python",
   "name": "python3"
  },
  "language_info": {
   "codemirror_mode": {
    "name": "ipython",
    "version": 3
   },
   "file_extension": ".py",
   "mimetype": "text/x-python",
   "name": "python",
   "nbconvert_exporter": "python",
   "pygments_lexer": "ipython3",
   "version": "3.8.10"
  }
 },
 "nbformat": 4,
 "nbformat_minor": 5
}
